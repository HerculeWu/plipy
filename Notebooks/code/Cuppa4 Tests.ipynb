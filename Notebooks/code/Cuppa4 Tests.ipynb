{
 "cells": [
  {
   "cell_type": "code",
   "execution_count": 1,
   "metadata": {},
   "outputs": [],
   "source": [
    "from cuppa4_lex import lexer\n",
    "from cuppa4_frontend import parser\n",
    "from cuppa4_state import state\n",
    "from cuppa4_interp_walk import walk\n",
    "from grammar_stuff import dump_AST\n",
    "from cuppa4_interp import interp"
   ]
  },
  {
   "cell_type": "code",
   "execution_count": 2,
   "metadata": {},
   "outputs": [],
   "source": [
    "from cuppa4_interp import interp"
   ]
  },
  {
   "cell_type": "code",
   "execution_count": 13,
   "metadata": {},
   "outputs": [
    {
     "name": "stdout",
     "output_type": "stream",
     "text": [
      "x = 4.0\n"
     ]
    }
   ],
   "source": [
    "str_concat = \\\n",
    "'''\n",
    "float x = 3.0 + 1; \n",
    "put \"x = \" + x;\n",
    "'''\n",
    "interp(str_concat)"
   ]
  },
  {
   "cell_type": "code",
   "execution_count": 4,
   "metadata": {},
   "outputs": [
    {
     "name": "stdout",
     "output_type": "stream",
     "text": [
      "5.0\n"
     ]
    }
   ],
   "source": [
    "add = \\\n",
    "'''\n",
    "float add (float a, float b) \n",
    "{\n",
    "    return a+b;\n",
    "}\n",
    "\n",
    "float x = add(3.0,2);\n",
    "put x;\n",
    "'''\n",
    "\n",
    "interp(add)"
   ]
  },
  {
   "cell_type": "code",
   "execution_count": 5,
   "metadata": {},
   "outputs": [
    {
     "name": "stdout",
     "output_type": "stream",
     "text": [
      "Error: add is not a scalar in expression\n"
     ]
    }
   ],
   "source": [
    "program = \\\n",
    "'''\n",
    "float add (float a, float b) \n",
    "{\n",
    "    return a+b;\n",
    "}\n",
    "\n",
    "float x = add + 1.0;\n",
    "    \n",
    "'''\n",
    "\n",
    "try: \n",
    "    interp(program)\n",
    "except ValueError as e:\n",
    "    print (\"Error: \" + str(e))"
   ]
  },
  {
   "cell_type": "code",
   "execution_count": 6,
   "metadata": {},
   "outputs": [
    {
     "name": "stdout",
     "output_type": "stream",
     "text": [
      "55\n"
     ]
    }
   ],
   "source": [
    "seqsum = \\\n",
    "'''\n",
    "void seqsum(int n) \n",
    "{\n",
    "    \n",
    "    int add(int a, int b) \n",
    "    {\n",
    "        return a+b;\n",
    "    }\n",
    "        \n",
    "    int i = 1;\n",
    "    int sum = 0;\n",
    "        \n",
    "    while (i <= n) \n",
    "    {\n",
    "        sum = add(sum,i);\n",
    "        i = i + 1;\n",
    "    }\n",
    "        \n",
    "    put sum;\n",
    "}\n",
    "\n",
    "seqsum(10);\n",
    "'''\n",
    "interp(seqsum)"
   ]
  },
  {
   "cell_type": "code",
   "execution_count": 7,
   "metadata": {},
   "outputs": [
    {
     "name": "stdout",
     "output_type": "stream",
     "text": [
      "1\n",
      "0\n",
      "0\n",
      "0\n"
     ]
    }
   ],
   "source": [
    "and_prog = \\\n",
    "'''\n",
    "int and(int a, int b)\n",
    "{\n",
    "    return a*b;\n",
    "}\n",
    "\n",
    "put and(1,1);\n",
    "put and(1,0);\n",
    "put and(0,1);\n",
    "put and(0,0);\n",
    "'''\n",
    "interp(and_prog)"
   ]
  },
  {
   "cell_type": "code",
   "execution_count": 8,
   "metadata": {},
   "outputs": [
    {
     "name": "stdout",
     "output_type": "stream",
     "text": [
      "6\n"
     ]
    }
   ],
   "source": [
    "fact = \\\n",
    "'''\n",
    "// computes the factorial of x = 3\n",
    "int x = 3;\n",
    "int y = 1;\n",
    "while (1 <= x) \n",
    "{\n",
    "      y = y * x;\n",
    "      x = x - 1;\n",
    "}\n",
    "put y;\n",
    "'''\n",
    "\n",
    "interp(fact)"
   ]
  },
  {
   "cell_type": "code",
   "execution_count": 9,
   "metadata": {},
   "outputs": [
    {
     "name": "stdout",
     "output_type": "stream",
     "text": [
      "6\n"
     ]
    }
   ],
   "source": [
    "factrec = \\\n",
    "'''\n",
    "// recursive implementation of factorial\n",
    "int fact(int x) \n",
    "{\n",
    "     if (x <= 1)\n",
    "        return 1;\n",
    "     else \n",
    "        return fact(x-1) * x;\n",
    "}\n",
    "\n",
    "put fact(3);\n",
    "'''\n",
    "interp(factrec)"
   ]
  },
  {
   "cell_type": "code",
   "execution_count": 10,
   "metadata": {},
   "outputs": [
    {
     "name": "stdout",
     "output_type": "stream",
     "text": [
      "1.0\n"
     ]
    }
   ],
   "source": [
    "fold = \\\n",
    "'''\n",
    "float x = (3 + 2) / 5;\n",
    "put x;\n",
    "'''\n",
    "interp(fold)"
   ]
  },
  {
   "cell_type": "code",
   "execution_count": 11,
   "metadata": {},
   "outputs": [
    {
     "name": "stdout",
     "output_type": "stream",
     "text": [
      "1001\n"
     ]
    }
   ],
   "source": [
    "func1 = \\\n",
    "'''\n",
    "void f () {\n",
    " put(1001);\n",
    "}\n",
    "\n",
    "f();\n",
    "'''\n",
    "interp(func1)"
   ]
  },
  {
   "cell_type": "code",
   "execution_count": 12,
   "metadata": {},
   "outputs": [
    {
     "name": "stdout",
     "output_type": "stream",
     "text": [
      "0\n",
      "1\n",
      "1\n",
      "2\n",
      "3\n",
      "5\n",
      "8\n",
      "13\n",
      "21\n",
      "34\n",
      "55\n",
      "89\n",
      "144\n"
     ]
    }
   ],
   "source": [
    "fib = \\\n",
    "'''\n",
    "int fib(int n)\n",
    "{    \n",
    "    if (n == 0)\n",
    "        return 0;\n",
    "    else if (n == 1)\n",
    "        return 1;\n",
    "    else\n",
    "        return fib(n-1) + fib(n-2);\n",
    "}\n",
    "\n",
    "// fibonacci sequence: 0,1,1,2,3,5,8,13,21,34,55,89,144,...\n",
    "int i = 0\n",
    "while (i <= 12)\n",
    "{\n",
    "    put fib(i)\n",
    "    i = i + 1\n",
    "}\n",
    "'''\n",
    "interp(fib)"
   ]
  },
  {
   "cell_type": "code",
   "execution_count": null,
   "metadata": {},
   "outputs": [],
   "source": []
  },
  {
   "cell_type": "code",
   "execution_count": null,
   "metadata": {},
   "outputs": [],
   "source": []
  }
 ],
 "metadata": {
  "kernelspec": {
   "display_name": "Python 3",
   "language": "python",
   "name": "python3"
  },
  "language_info": {
   "codemirror_mode": {
    "name": "ipython",
    "version": 3
   },
   "file_extension": ".py",
   "mimetype": "text/x-python",
   "name": "python",
   "nbconvert_exporter": "python",
   "pygments_lexer": "ipython3",
   "version": "3.7.3"
  }
 },
 "nbformat": 4,
 "nbformat_minor": 2
}
