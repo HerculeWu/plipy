{
 "cells": [
  {
   "cell_type": "markdown",
   "metadata": {},
   "source": [
    "## plipy\n",
    "\n",
    "\n",
    "![cover image](cover-image.gif)\n",
    "\n",
    "\n",
    "## Programming Language Implementation with Python\n",
    "\n",
    "Lutz Hamel, University of Rhode Island\n",
    "\n",
    "DRAFT - June 2017\n",
    "\n",
    "The text is released under the [CC-BY-NC-ND license](https://creativecommons.org/licenses/by-nc-nd/3.0/us/legalcode), and code is released under the [MIT license](https://opensource.org/licenses/MIT)."
   ]
  },
  {
   "cell_type": "markdown",
   "metadata": {},
   "source": [
    "### [00 - Front Matter](chap00.ipynb)"
   ]
  },
  {
   "cell_type": "markdown",
   "metadata": {},
   "source": [
    "There has been a noticable shift in the approach of implementing programming languages over the past 15 or so years.\n",
    "Before the introduction of Java in the mid 1990's the only \"legitimate\" way to implement a programming language was to construct a compiler that compiled programs written in a high-level source language into target machine code.  The success of Java and its virtual machine approach legitimized alternative approaches to language implementation.  Since then many successful, modern programming languages such as Perl, Ruby, Python (to name but a few) have been implemented using alternative approaches. Implementation approaches explored by these languages include incremental interpreters, virtual machines, as well as just-in-time compilers.  It is interesting to observe that this shift is not reflected in many of the available text books.  The majority of text books still view the 'compiler to machine code' as the primary programming language implementation paradigm and therefore ignore the implementation strategies of the majority of modern programming languages that are in use today.\n",
    "\n",
    "Another thread we can follow is the rise of the idea of domain specific languages (Fowler, 2010).  A domain specific language is a language that has been designed to solve problems in a specific domain.  This is in contrast to\n",
    "general purpose languages such as Java or C++.   It is now generally accepted that developing domain specific programming languages is a legitimate part of a software engineering approach to developing a software solution.\n",
    "Domain specific languages are only rarely implemented using a full blown compiler.  In most cases some sort of interpretation or virtual machine approach is used to implement these languages.  Observe that this important development in programming languages is pretty much ignored by the majority of current text books.\n",
    "\n",
    "Finally, since many current books on programming language implementation only address the \"compile to machine code\" approach to language implementation it makes seem programming language implementation to be an extremely complicated task, *e.g.* (Cooper & Torczon, 2011).  Which is of course true if you are looking at a high-performance compiler, but it is not true if you look at the implementation of smaller languages designed to handle specific tasks.  By making the topic as complex as these books do (*e.g.* the book cited above spends 200+ pages on parsing theory alone!), these books deny students access to an interesting, straight-forward way of solving software engineering problems.\n",
    "\n",
    "The book you are looking at addresses the points raised above.  We take a pragmatic point of view of programming\n",
    "language implementation with the goal of having the reader implement programming languages \"from day one\". We look at interpretation, virtual machines, and compilers using small, realistic languages.  One of the strengths of the  \"implement from day one\" approach is that we start with very simple languages and then build on the acquired expertise incrementally until we show how languages with functions and type systems can be interpreted and/or compiled.  \n",
    "\n",
    "It turns out that Python is the perfect environment for the exploration of programming languages with its abilitiy to load and run modules independently from one another.  This allows us to incrementally explore different aspects of programming language implementation. The material in the book is accessible to anyone who has taken a college-level programming course or has equivalent experience.  We also expect that the reader has some exposure to Python programming.  Once the reader has mastered the material in the book he or she will be appropriately prepared to master advanced topics such as high-performance compilers and advanced architectures.\n",
    "\n",
    "Fowler, M. (2010). *Domain-specific languages*. Pearson Education.\n",
    "\n",
    "Cooper, K., & Torczon, L. (2011). *Engineering a compiler*. Elsevier.\n"
   ]
  },
  {
   "cell_type": "markdown",
   "metadata": {},
   "source": [
    "### [01 - Programming Languages and their Processors](chap01.ipynb)"
   ]
  },
  {
   "cell_type": "markdown",
   "metadata": {},
   "source": [
    "- The Structure of Programming Languages\n",
    "- The Behavior of Programming Languages\n",
    "- Language Processors\n",
    "  - Building Blocks\n",
    "    - Syntax Analysis\n",
    "    - Semantic Analysis\n",
    "    - Code Generation\n",
    "  - Architectures\n",
    "    - The Reader\n",
    "    - The Generator\n",
    "    - The Interpreter\n",
    "    - The Translator\n",
    "    - The Simple Translator\n",
    "  - An Example: The Java Programming Language\n",
    "- Summary\n",
    "- Bibliographic Notes\n",
    "- Exercises"
   ]
  },
  {
   "cell_type": "markdown",
   "metadata": {},
   "source": [
    "### [02 - A Crash Course in Parsing and Lexing](chap02.ipynb)"
   ]
  },
  {
   "cell_type": "markdown",
   "metadata": {},
   "source": [
    "- Grammars\n",
    "  - The Basics\n",
    "  - Derivations\n",
    "  - Parse Trees\n",
    "  - An Example: The Exp0 Language\n",
    "- Parsers\n",
    "  - Top-Down Parsing\n",
    "    - Lookahead Sets\n",
    "    - Left-Recursive Grammars are not LL(1)\n",
    "    - Other Grammars that are not LL(1)\n",
    "    - A Top-Down Parsing Algorithm\n",
    "  - Bottom-Up Parsing\n",
    "    - A Bottom-Up Parsing Algorithm\n",
    "    - A Closer Look at LR(0)\n",
    "  - Building Parsers by Hand\n",
    "    - Recursive Descent is LL(1)\n",
    "- Parser Generators\n",
    "  - An Example: Our First Language Processor\n",
    "- Lexical Analysis\n",
    "  - An Example: The Exp1 Language\n",
    "- Summary\n",
    "- Bibliographic Notes\n",
    "- Exercises"
   ]
  },
  {
   "cell_type": "markdown",
   "metadata": {},
   "source": [
    "### [03 - Let the Syntax guide You](chap03.ipynb)\n",
    "\n"
   ]
  },
  {
   "cell_type": "markdown",
   "metadata": {
    "collapsed": true
   },
   "source": [
    "* What is Syntax-Directed Interpretation?\n",
    "* An Interpreter for Exp1 using a Recursive Descent Parser\n",
    "  - The Interpretation of Exp1 Programs\n",
    "  - Syntax Directed Interpretation of Expressions\n",
    "  - The Syntax Directed Interpretation of Variables and Numbers\n",
    "  - Interpreting an Expression\n",
    "  - Syntax Directed Interpretation of Statements\n",
    "  - Interpreting Statements\n",
    "  - Processing Statement Lists\n",
    "  - Adding a Toplevel Driver\n",
    "* An Interpreter for Exp1 using an LR(1) Parser\n",
    "  - The Exp1 Parser\n",
    "  - Testing our LR(1) Parser\n",
    "  - Adding a Toplevel Driver\n",
    "* Another Take on Syntax-Directed Processing: A Pretty Printer for Exp1\n",
    "  - The Pretty Printer Parser\n",
    "  - Testing the Pretty Printer\n",
    "  - Putting all together\n",
    "* Summary\n",
    "* Bibliographic Notes\n",
    "* Exercises"
   ]
  },
  {
   "cell_type": "markdown",
   "metadata": {
    "collapsed": true
   },
   "source": [
    "### [04 - A little Procrastination goes a Long Way: Program Analysis with Intermediate Representations](chap04.ipynb)"
   ]
  },
  {
   "cell_type": "markdown",
   "metadata": {},
   "source": [
    "* Limits of Syntax-Directed Processing\n",
    "* Introducing the Exp1bytecode Language\n",
    "  - The Exp1bytecode Grammar\n",
    "  - The Lexer for Exp1bytecode\n",
    "  - Testing our Exp1bytecode Parser\n",
    "* Trying our Hand at Syntax Directed Processing...\n",
    "  - Syntax Directed Interpretation Fails!\n",
    "* Decoupling Syntax Analysis and Semantic Processing\n",
    "  - An Abstract Machine based IR Design\n",
    "* The Exp1bytecode Interpreter\n",
    "  - This Solves Our Jump Problem!\n",
    "  - IR Implementation\n",
    "  - The Parser\n",
    "  - Handling Lists of Instructions\n",
    "  - Handling Expressions\n",
    "  - Testing the Parser\n",
    "  - Interpreting the IR\n",
    "  - Running our Interpretation Functions\n",
    "  - Toplevel Interpreter Function\n",
    "* Summary\n",
    "* Bibliographic Notes\n",
    "* Exercises"
   ]
  },
  {
   "cell_type": "markdown",
   "metadata": {},
   "source": [
    "### [05 - The Magic of Tree Walking](chap05.ipynb)"
   ]
  },
  {
   "cell_type": "markdown",
   "metadata": {},
   "source": [
    " * Abstract Syntax Trees\n",
    "   - The Tuple Representation of ASTs\n",
    " * The Cuppa1 Programming Language\n",
    " * The Cuppa1 Frontend\n",
    "   - Statements\n",
    "   - Statement Lists and Programs\n",
    "   - Expressions\n",
    "   - Generating ASTs\n",
    " * Tree Walking\n",
    "   - A Simple Tree Walker\n",
    "   - Tree Walkers are Plug'n Play\n",
    " * An Interpreter for Cuppa1\n",
    "   - Running the Interpreter\n",
    " * A Cuppa1 Pretty Printer with a Twist\n",
    "   - Architecture of the Cuppa1 Pretty Printer\n",
    "     - The First Pass Walker\n",
    "     - The Second Pass Walker\n",
    "   - Testing the Pretty Printer\n",
    " * Summary\n",
    " * Bibliographic Notes\n",
    " * Exercises"
   ]
  },
  {
   "cell_type": "markdown",
   "metadata": {},
   "source": [
    "### [06 - An Optimizing Compiler]()"
   ]
  },
  {
   "cell_type": "markdown",
   "metadata": {},
   "source": [
    "### [07 - Of Scope & Symbol Tables]()"
   ]
  },
  {
   "cell_type": "markdown",
   "metadata": {},
   "source": [
    "### [08 - The Almighty Function]()"
   ]
  },
  {
   "cell_type": "markdown",
   "metadata": {},
   "source": [
    "### [09 - Type Systems]()"
   ]
  },
  {
   "cell_type": "markdown",
   "metadata": {},
   "source": [
    "### [10 - Structured Data Types]()"
   ]
  },
  {
   "cell_type": "markdown",
   "metadata": {},
   "source": [
    "### [11 - Higher-Order Programming]()"
   ]
  },
  {
   "cell_type": "markdown",
   "metadata": {},
   "source": [
    "### [12 - Compiling for Real Machines]()"
   ]
  },
  {
   "cell_type": "markdown",
   "metadata": {},
   "source": [
    "### [13 - Advanced Program Analysis and Optimization Techniques]()\n",
    "\n",
    "<!-- data flow analysis, constant propagation, dead code elimination -->"
   ]
  },
  {
   "cell_type": "markdown",
   "metadata": {},
   "source": [
    "### [14 - Object-Oriented Language Features]()"
   ]
  },
  {
   "cell_type": "markdown",
   "metadata": {
    "collapsed": true
   },
   "source": [
    "### Appendix"
   ]
  },
  {
   "cell_type": "markdown",
   "metadata": {},
   "source": [
    "#### [Cuppa1 Frontend Specification](Cuppa1 Frontend.ipynb)"
   ]
  },
  {
   "cell_type": "markdown",
   "metadata": {
    "collapsed": true
   },
   "source": [
    "#### [Cuppa1 Interpreter Tree Walker](Cuppa1 Interpreter Tree Walker.ipynb)"
   ]
  },
  {
   "cell_type": "markdown",
   "metadata": {
    "collapsed": true
   },
   "source": [
    "#### [Cuppa1 Pretty Printer with a Twist](Cuppa1 Pretty Printer with a Twist.ipynb)"
   ]
  },
  {
   "cell_type": "code",
   "execution_count": null,
   "metadata": {
    "collapsed": true
   },
   "outputs": [],
   "source": []
  }
 ],
 "metadata": {
  "kernelspec": {
   "display_name": "Python 3",
   "language": "python",
   "name": "python3"
  },
  "language_info": {
   "codemirror_mode": {
    "name": "ipython",
    "version": 3
   },
   "file_extension": ".py",
   "mimetype": "text/x-python",
   "name": "python",
   "nbconvert_exporter": "python",
   "pygments_lexer": "ipython3",
   "version": "3.6.0"
  }
 },
 "nbformat": 4,
 "nbformat_minor": 2
}
