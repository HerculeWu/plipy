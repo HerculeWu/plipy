{
 "cells": [
  {
   "cell_type": "code",
   "execution_count": 1,
   "metadata": {
    "collapsed": true
   },
   "outputs": [],
   "source": [
    "# import compiler stuff\n",
    "from cuppa1_lex import lexer\n",
    "from cuppa1_frontend_gram import parser\n",
    "from cuppa1_state import state\n",
    "from cuppa1_cc_codegen import walk as codegen\n",
    "from cuppa1_cc_output import output\n",
    "\n",
    "# import interpreter stuff\n",
    "from cuppa1_interp import interp as cuppa1_interp\n",
    "from exp1bytecode_interp import interp as bytecode_interp"
   ]
  },
  {
   "cell_type": "code",
   "execution_count": 2,
   "metadata": {},
   "outputs": [],
   "source": [
    "# define a compiler function\n",
    "def cc1(input_stream):\n",
    "    parser.parse(input_stream, lexer=lexer)\n",
    "    instr_tuples = codegen(state.AST)  + [('stop',)]\n",
    "    bytecode = output(instr_tuples)\n",
    "    return bytecode"
   ]
  },
  {
   "cell_type": "code",
   "execution_count": 3,
   "metadata": {
    "collapsed": true
   },
   "outputs": [],
   "source": [
    "program = \\\n",
    "'''\n",
    "get x\n",
    "x = x + 1\n",
    "put x\n",
    "'''"
   ]
  },
  {
   "cell_type": "code",
   "execution_count": 4,
   "metadata": {},
   "outputs": [
    {
     "name": "stdout",
     "output_type": "stream",
     "text": [
      "Value for x? 3\n",
      "> 4\n"
     ]
    }
   ],
   "source": [
    "cuppa1_interp(program)"
   ]
  },
  {
   "cell_type": "code",
   "execution_count": 5,
   "metadata": {},
   "outputs": [
    {
     "name": "stdout",
     "output_type": "stream",
     "text": [
      "\tinput x ;\n",
      "\tstore x (+ x 1) ;\n",
      "\tprint x ;\n",
      "\tstop ;\n",
      "\n"
     ]
    }
   ],
   "source": [
    "bytecode = cc1(program)\n",
    "print(bytecode)"
   ]
  },
  {
   "cell_type": "code",
   "execution_count": 6,
   "metadata": {},
   "outputs": [
    {
     "name": "stdout",
     "output_type": "stream",
     "text": [
      "Please enter a value for x: 3\n",
      "> 4\n"
     ]
    }
   ],
   "source": [
    "bytecode_interp(bytecode)"
   ]
  },
  {
   "cell_type": "code",
   "execution_count": null,
   "metadata": {
    "collapsed": true
   },
   "outputs": [],
   "source": []
  }
 ],
 "metadata": {
  "kernelspec": {
   "display_name": "Python 3",
   "language": "python",
   "name": "python3"
  },
  "language_info": {
   "codemirror_mode": {
    "name": "ipython",
    "version": 3
   },
   "file_extension": ".py",
   "mimetype": "text/x-python",
   "name": "python",
   "nbconvert_exporter": "python",
   "pygments_lexer": "ipython3",
   "version": "3.7.3"
  }
 },
 "nbformat": 4,
 "nbformat_minor": 2
}
