{
 "cells": [
  {
   "cell_type": "code",
   "execution_count": 1,
   "metadata": {
    "collapsed": true
   },
   "outputs": [],
   "source": [
    "# let the notebook access the code folder\n",
    "import sys\n",
    "sys.path.insert(1,\"code\")"
   ]
  },
  {
   "cell_type": "markdown",
   "metadata": {},
   "source": [
    "We extend Cuppa1 with a 'declare' statement so that we have precise control in which scope the variable is being declared."
   ]
  },
  {
   "cell_type": "markdown",
   "metadata": {},
   "source": [
    "```python\n",
    "# %load code/cuppa2_gram.py\n",
    "# grammar for Cuppa2\n",
    "\n",
    "from ply import yacc\n",
    "from cuppa2_lex import tokens, lexer\n",
    "\n",
    "# set precedence and associativity\n",
    "# NOTE: all arithmetic operator need to have tokens\n",
    "#       so that we can put them into the precedence table\n",
    "precedence = (\n",
    "              ('left', 'EQ', 'LE'),\n",
    "              ('left', 'PLUS', 'MINUS'),\n",
    "              ('left', 'TIMES', 'DIVIDE'),\n",
    "              ('right', 'UMINUS', 'NOT')\n",
    "             )\n",
    "\n",
    "\n",
    "def p_grammar(_):\n",
    "    '''\n",
    "    program : stmt_list\n",
    "\n",
    "    stmt_list : stmt stmt_list\n",
    "              | empty\n",
    "\n",
    "    stmt : DECLARE ID opt_init opt_semi\n",
    "         | ID '=' exp opt_semi\n",
    "         | GET ID opt_semi\n",
    "         | PUT exp opt_semi\n",
    "         | WHILE '(' exp ')' stmt\n",
    "         | IF '(' exp ')' stmt opt_else\n",
    "         | '{' stmt_list '}'\n",
    "\n",
    "    opt_init : '=' exp\n",
    "             | empty\n",
    "             \n",
    "    opt_else : ELSE stmt\n",
    "             | empty\n",
    "             \n",
    "    opt_semi : ';'\n",
    "             | empty\n",
    "\n",
    "    exp : exp PLUS exp\n",
    "        | exp MINUS exp\n",
    "        | exp TIMES exp\n",
    "        | exp DIVIDE exp\n",
    "        | exp EQ exp\n",
    "        | exp LE exp\n",
    "        | INTEGER\n",
    "        | ID\n",
    "        | '(' exp ')'\n",
    "        | MINUS exp %prec UMINUS\n",
    "        | NOT exp\n",
    "    '''\n",
    "    pass\n",
    "\n",
    "def p_empty(p):\n",
    "    'empty :'\n",
    "    pass\n",
    "\n",
    "def p_error(t):\n",
    "    print(\"Syntax error at '%s'\" % t.value)\n",
    "\n",
    "### build the parser\n",
    "parser = yacc.yacc()\n",
    "```"
   ]
  },
  {
   "cell_type": "markdown",
   "metadata": {},
   "source": [
    "Here is the lexer for Cuppa2, it is the same lexer as for Cuppa1 except that this new lexer supports the keyword 'declare'."
   ]
  },
  {
   "cell_type": "markdown",
   "metadata": {},
   "source": [
    "```python\n",
    "# %load code/cuppa2_lex.py\n",
    "# Lexer for Cuppa2\n",
    "\n",
    "from ply import lex\n",
    "\n",
    "reserved = {\n",
    "    'get'     : 'GET',\n",
    "    'put'     : 'PUT',\n",
    "    'if'      : 'IF',\n",
    "    'else'    : 'ELSE',\n",
    "    'while'   : 'WHILE',\n",
    "    'not'     : 'NOT',\n",
    "    'declare' : 'DECLARE'\n",
    "}\n",
    "\n",
    "literals = [';','=','(',')','{','}']\n",
    "\n",
    "tokens = [\n",
    "          'PLUS','MINUS','TIMES','DIVIDE',\n",
    "          'EQ','LE', \n",
    "          'INTEGER','ID',\n",
    "          ] + list(reserved.values())\n",
    "\n",
    "t_PLUS    = r'\\+'\n",
    "t_MINUS   = r'-'\n",
    "t_TIMES   = r'\\*'\n",
    "t_DIVIDE  = r'/'\n",
    "t_EQ      = r'=='\n",
    "t_LE      = r'<='\n",
    "\n",
    "t_ignore = ' \\t'\n",
    "\n",
    "def t_ID(t):\n",
    "    r'[a-zA-Z_][a-zA-Z_0-9]*'\n",
    "    t.type = reserved.get(t.value,'ID')    # Check for reserved words\n",
    "    return t\n",
    "\n",
    "def t_INTEGER(t):\n",
    "    r'[0-9]+'\n",
    "    return t\n",
    "\n",
    "def t_COMMENT(t):\n",
    "    r'//.*'\n",
    "    pass\n",
    "\n",
    "def t_NEWLINE(t):\n",
    "    r'\\n'\n",
    "    pass\n",
    "\n",
    "def t_error(t):\n",
    "    print(\"Illegal character %s\" % t.value[0])\n",
    "    t.lexer.skip(1)\n",
    "\n",
    "# build the lexer\n",
    "lexer = lex.lex(debug=0)\n",
    "```\n"
   ]
  },
  {
   "cell_type": "markdown",
   "metadata": {},
   "source": [
    "Testing the grammar/parser for Cuppa2."
   ]
  },
  {
   "cell_type": "code",
   "execution_count": 2,
   "metadata": {},
   "outputs": [],
   "source": [
    "from cuppa2_lex import lexer\n",
    "from cuppa2_gram import parser"
   ]
  },
  {
   "cell_type": "code",
   "execution_count": 3,
   "metadata": {
    "collapsed": true
   },
   "outputs": [],
   "source": [
    "parser.parse(\"declare x = 1; put x\", lexer=lexer)"
   ]
  },
  {
   "cell_type": "markdown",
   "metadata": {},
   "source": [
    "# Cuppa2 Interpreter"
   ]
  },
  {
   "cell_type": "markdown",
   "metadata": {},
   "source": [
    "The [frontend](code/cuppa2_frontend_gram.py) constructs the AST.  Note that we no longer just put symbols into the symbol as we discover them.  We have to delay that until later when we know more about scope."
   ]
  },
  {
   "cell_type": "markdown",
   "metadata": {},
   "source": [
    "The [tree walker](code/cuppa2_interp_walk.py) walks the AST and interprets the values."
   ]
  },
  {
   "cell_type": "markdown",
   "metadata": {},
   "source": [
    "We have our top-level interp function."
   ]
  },
  {
   "cell_type": "markdown",
   "metadata": {},
   "source": [
    "```python\n",
    "# %load code/cuppa2_interp.py\n",
    "#!/usr/bin/env python\n",
    "# Cuppa2 interpreter\n",
    "\n",
    "from argparse import ArgumentParser\n",
    "from cuppa2_lex import lexer\n",
    "from cuppa2_frontend_gram import parser\n",
    "from cuppa2_state import state\n",
    "from cuppa2_interp_walk import walk\n",
    "\n",
    "def interp(input_stream):\n",
    "\n",
    "    # initialize the state object\n",
    "    state.initialize()\n",
    "\n",
    "    # build the AST\n",
    "    parser.parse(input_stream, lexer=lexer)\n",
    "\n",
    "    # walk the AST\n",
    "    walk(state.AST)\n",
    "\n",
    "if __name__ == \"__main__\":\n",
    "    # parse command line args\n",
    "    aparser = ArgumentParser()\n",
    "    aparser.add_argument('input')\n",
    "\n",
    "    args = vars(aparser.parse_args())\n",
    "\n",
    "    f = open(args['input'], 'r')\n",
    "    input_stream = f.read()\n",
    "    f.close()\n",
    "\n",
    "    # execute interpreter\n",
    "    interp(input_stream=input_stream)\n",
    "```"
   ]
  },
  {
   "cell_type": "markdown",
   "metadata": {},
   "source": [
    "So far this is almost identical to the interpreter for Cuppa1.  The big difference between the two languages is the structure of the symbol table.  In Cuppa1 the symbol table consisted just of a single global dictionary.  In Cuppa2 we need to keep track of scope.  Therefore the symbol in Cuppa2 consists of a stack of dictionaries: one dictionary per active scope."
   ]
  },
  {
   "cell_type": "code",
   "execution_count": 4,
   "metadata": {
    "collapsed": true
   },
   "outputs": [],
   "source": [
    "# %load code/cuppa2_symtab.py\n",
    "#########################################################################\n",
    "# symbol table for Cuppa2\n",
    "#\n",
    "# it is a scoped symbol table with a dictionary at each scope level\n",
    "#\n",
    "#########################################################################\n",
    "\n",
    "CURR_SCOPE = 0\n",
    "\n",
    "class SymTab:\n",
    "\n",
    "    #-------\n",
    "    def __init__(self):\n",
    "        # global scope dictionary must always be present\n",
    "        self.scoped_symtab = [{}]\n",
    "\n",
    "    #-------\n",
    "    def push_scope(self):\n",
    "        # push a new dictionary onto the stack - stack grows to the left\n",
    "        self.scoped_symtab.insert(CURR_SCOPE,{})\n",
    "\n",
    "    #-------\n",
    "    def pop_scope(self):\n",
    "        # pop the left most dictionary off the stack\n",
    "        if len(self.scoped_symtab) == 1:\n",
    "            raise ValueError(\"cannot pop the global scope\")\n",
    "        else:\n",
    "            self.scoped_symtab.pop(CURR_SCOPE)\n",
    "\n",
    "    #-------\n",
    "    def declare_sym(self, sym, init):\n",
    "        # declare the symbol in the current scope: dict @ position 0\n",
    "        \n",
    "        # first we need to check whether the symbol was already declared\n",
    "        # at this scope\n",
    "        if sym in self.scoped_symtab[CURR_SCOPE]:\n",
    "            raise ValueError(\"symbol {} already declared\".format(sym))\n",
    "        \n",
    "        # enter the symbol in the current scope\n",
    "        scope_dict = self.scoped_symtab[CURR_SCOPE]\n",
    "        scope_dict[sym] = init\n",
    "\n",
    "    #-------\n",
    "    def lookup_sym(self, sym):\n",
    "        # find the first occurence of sym in the symtab stack\n",
    "        # and return the associated value\n",
    "\n",
    "        n_scopes = len(self.scoped_symtab)\n",
    "\n",
    "        for scope in range(n_scopes):\n",
    "            if sym in self.scoped_symtab[scope]:\n",
    "                val = self.scoped_symtab[scope].get(sym)\n",
    "                return val\n",
    "\n",
    "        # not found\n",
    "        raise ValueError(\"{} was not declared\".format(sym))\n",
    "\n",
    "    #-------\n",
    "    def update_sym(self, sym, val):\n",
    "        # find the first occurence of sym in the symtab stack\n",
    "        # and update the associated value\n",
    "\n",
    "        n_scopes = len(self.scoped_symtab)\n",
    "\n",
    "        for scope in range(n_scopes):\n",
    "            if sym in self.scoped_symtab[scope]:\n",
    "                scope_dict = self.scoped_symtab[scope]\n",
    "                scope_dict[sym] = val\n",
    "                return\n",
    "\n",
    "        # not found\n",
    "        raise ValueError(\"{} was not declared\".format(sym))\n",
    "\n",
    "#########################################################################\n",
    "\n",
    "\n"
   ]
  },
  {
   "cell_type": "markdown",
   "metadata": {},
   "source": [
    "Our test programs:"
   ]
  },
  {
   "cell_type": "code",
   "execution_count": 5,
   "metadata": {
    "collapsed": true
   },
   "outputs": [],
   "source": [
    "# %load code/cuppa2_examples.py\n",
    "fact =\\\n",
    "'''\n",
    "// computes the factorial of x\n",
    "declare x;\n",
    "declare y = 1;\n",
    "\n",
    "get x;\n",
    "\n",
    "while (1 <= x)\n",
    "{\n",
    "    y = y * x;\n",
    "    x = x - 1;\n",
    "}\n",
    "\n",
    "put y;\n",
    "'''\n",
    "\n",
    "fold =\\\n",
    "'''\n",
    "declare x = (3 + 2) / 5;\n",
    "put x;\n",
    "'''\n",
    "\n",
    "if_ex =\\\n",
    "'''\n",
    "declare y = 1\n",
    "\n",
    "if (y == 1)\n",
    "{\n",
    "    put 1\n",
    "}\n",
    "else \n",
    "{\n",
    "    put 2\n",
    "}\n",
    "'''\n",
    "\n",
    "list =\\\n",
    "'''\n",
    "// list of integers\n",
    "declare x;\n",
    "get x;\n",
    "while (1 <= x)\n",
    "{\n",
    "    put x;\n",
    "    x = x - 1;\n",
    "}\n",
    "'''\n",
    "\n",
    "redecl =\\\n",
    "'''\n",
    "declare x;\n",
    "get x;\n",
    "put x + 1;\n",
    "declare x = 10;\n",
    "put x;\n",
    "'''\n",
    "\n",
    "scope1 =\\\n",
    "'''\n",
    "declare x = 1;\n",
    "{\n",
    "    declare x = 2;\n",
    "    put x;\n",
    "}\n",
    "{\n",
    "    declare x = 3;\n",
    "    put x;\n",
    "}\n",
    "put x;\n",
    "'''\n",
    "\n",
    "scope2 =\\\n",
    "'''\n",
    "declare x = 1;\n",
    "put x;\n",
    "{\n",
    "    x = 2;\n",
    "}\n",
    "put x;\n",
    "{\n",
    "    x = 3;\n",
    "}\n",
    "put x;\n",
    "'''\n",
    "\n",
    "undecl =\\\n",
    "'''\n",
    "get x;\n",
    "put x + 1;\n",
    "'''\n",
    "\n",
    "\n"
   ]
  },
  {
   "cell_type": "code",
   "execution_count": 6,
   "metadata": {
    "collapsed": true
   },
   "outputs": [],
   "source": [
    "from cuppa2_interp import interp\n",
    "from cuppa2_examples import *"
   ]
  },
  {
   "cell_type": "code",
   "execution_count": 7,
   "metadata": {},
   "outputs": [
    {
     "name": "stdout",
     "output_type": "stream",
     "text": [
      "> 1\n"
     ]
    }
   ],
   "source": [
    "interp(fold)"
   ]
  },
  {
   "cell_type": "code",
   "execution_count": 8,
   "metadata": {},
   "outputs": [
    {
     "name": "stdout",
     "output_type": "stream",
     "text": [
      "Value for x? 3\n",
      "> 6\n"
     ]
    }
   ],
   "source": [
    "interp(fact)\n"
   ]
  },
  {
   "cell_type": "code",
   "execution_count": 9,
   "metadata": {
    "collapsed": true
   },
   "outputs": [],
   "source": [
    "interp(\"declare x = 10\")"
   ]
  },
  {
   "cell_type": "code",
   "execution_count": 10,
   "metadata": {},
   "outputs": [
    {
     "name": "stdout",
     "output_type": "stream",
     "text": [
      "> 1\n",
      "> 2\n",
      "> 3\n"
     ]
    }
   ],
   "source": [
    "interp(scope2)"
   ]
  },
  {
   "cell_type": "code",
   "execution_count": 11,
   "metadata": {},
   "outputs": [
    {
     "name": "stdout",
     "output_type": "stream",
     "text": [
      "> 2\n",
      "> 3\n",
      "> 1\n"
     ]
    }
   ],
   "source": [
    "interp(scope1)"
   ]
  },
  {
   "cell_type": "markdown",
   "metadata": {},
   "source": [
    "# Cuppa2 Compiler"
   ]
  },
  {
   "cell_type": "markdown",
   "metadata": {},
   "source": [
    "testing the Cuppa2 compiler"
   ]
  },
  {
   "cell_type": "code",
   "execution_count": 26,
   "metadata": {
    "collapsed": true
   },
   "outputs": [],
   "source": [
    "from cuppa2_examples import scope1, scope2\n",
    "from cuppa2_cc import cc"
   ]
  },
  {
   "cell_type": "code",
   "execution_count": 21,
   "metadata": {},
   "outputs": [
    {
     "name": "stdout",
     "output_type": "stream",
     "text": [
      "\tstore R$x 7 ;\n",
      "\tprint R$x ;\n",
      "\tstop ;\n",
      "\n"
     ]
    }
   ],
   "source": [
    "print(cc(\"declare x = 7; put x\"))"
   ]
  },
  {
   "cell_type": "code",
   "execution_count": 27,
   "metadata": {},
   "outputs": [
    {
     "name": "stdout",
     "output_type": "stream",
     "text": [
      "\n",
      "declare x = 1;\n",
      "{\n",
      "    declare x = 2;\n",
      "    put x;\n",
      "}\n",
      "{\n",
      "    declare x = 3;\n",
      "    put x;\n",
      "}\n",
      "put x;\n",
      "\n"
     ]
    }
   ],
   "source": [
    "print(scope1)"
   ]
  },
  {
   "cell_type": "code",
   "execution_count": 28,
   "metadata": {},
   "outputs": [
    {
     "name": "stdout",
     "output_type": "stream",
     "text": [
      "\tstore R$x 1 ;\n",
      "\tstore R$$x 2 ;\n",
      "\tprint R$$x ;\n",
      "\tstore R$$x 3 ;\n",
      "\tprint R$$x ;\n",
      "\tprint R$x ;\n",
      "\tstop ;\n",
      "\n"
     ]
    }
   ],
   "source": [
    "print(cc(scope1))"
   ]
  },
  {
   "cell_type": "code",
   "execution_count": 29,
   "metadata": {},
   "outputs": [
    {
     "name": "stdout",
     "output_type": "stream",
     "text": [
      "\n",
      "declare x = 1;\n",
      "put x;\n",
      "{\n",
      "    x = 2;\n",
      "}\n",
      "put x;\n",
      "{\n",
      "    x = 3;\n",
      "}\n",
      "put x;\n",
      "\n"
     ]
    }
   ],
   "source": [
    "print(scope2)"
   ]
  },
  {
   "cell_type": "code",
   "execution_count": 30,
   "metadata": {},
   "outputs": [
    {
     "name": "stdout",
     "output_type": "stream",
     "text": [
      "\tstore R$x 1 ;\n",
      "\tprint R$x ;\n",
      "\tstore R$x 2 ;\n",
      "\tprint R$x ;\n",
      "\tstore R$x 3 ;\n",
      "\tprint R$x ;\n",
      "\tstop ;\n",
      "\n"
     ]
    }
   ],
   "source": [
    "print(cc(scope2))"
   ]
  },
  {
   "cell_type": "code",
   "execution_count": null,
   "metadata": {
    "collapsed": true
   },
   "outputs": [],
   "source": []
  }
 ],
 "metadata": {
  "kernelspec": {
   "display_name": "Python 3",
   "language": "python",
   "name": "python3"
  },
  "language_info": {
   "codemirror_mode": {
    "name": "ipython",
    "version": 3
   },
   "file_extension": ".py",
   "mimetype": "text/x-python",
   "name": "python",
   "nbconvert_exporter": "python",
   "pygments_lexer": "ipython3",
   "version": "3.6.1"
  }
 },
 "nbformat": 4,
 "nbformat_minor": 2
}
