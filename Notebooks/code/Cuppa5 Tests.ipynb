{
 "cells": [
  {
   "cell_type": "code",
   "execution_count": 1,
   "metadata": {},
   "outputs": [],
   "source": [
    "from cuppa5_lex import lexer\n",
    "from cuppa5_frontend import parser\n",
    "from cuppa5_state import state\n",
    "from cuppa5_interp_walk import walk\n",
    "from grammar_stuff import dump_AST"
   ]
  },
  {
   "cell_type": "code",
   "execution_count": 4,
   "metadata": {},
   "outputs": [],
   "source": [
    "program = \\\n",
    "'''\n",
    "float a;\n",
    "get a;\n",
    "put a;\n",
    "\n",
    "int[3] b;\n",
    "get b[1+1];\n",
    "put b;\n",
    "'''"
   ]
  },
  {
   "cell_type": "code",
   "execution_count": 5,
   "metadata": {},
   "outputs": [
    {
     "name": "stdout",
     "output_type": "stream",
     "text": [
      "Value for a? 1\n",
      "1.0\n",
      "Value for b[2]? 2\n",
      "[0, 0, 2]\n"
     ]
    }
   ],
   "source": [
    "state.initialize()\n",
    "parser.parse(program, lexer=lexer)\n",
    "#dump_AST(state.AST)\n",
    "walk(state.AST)"
   ]
  },
  {
   "cell_type": "code",
   "execution_count": null,
   "metadata": {},
   "outputs": [],
   "source": [
    "program = \\\n",
    "'''\n",
    "float add (float a, float b) \n",
    "{\n",
    "    return a+b;\n",
    "}\n",
    "\n",
    "float x = add(3.0,2);\n",
    "put x;\n",
    "'''"
   ]
  },
  {
   "cell_type": "code",
   "execution_count": null,
   "metadata": {},
   "outputs": [],
   "source": [
    "state.initialize()\n",
    "parser.parse(program, lexer=lexer)\n",
    "#dump_AST(state.AST)\n",
    "walk(state.AST)\n",
    "print(state.symbol_table.scoped_symtab)"
   ]
  },
  {
   "cell_type": "code",
   "execution_count": null,
   "metadata": {},
   "outputs": [],
   "source": [
    "program = \\\n",
    "'''\n",
    "int[3] a = {1,2,3};\n",
    "put a;\n",
    "'''"
   ]
  },
  {
   "cell_type": "code",
   "execution_count": null,
   "metadata": {},
   "outputs": [],
   "source": [
    "state.initialize()\n",
    "parser.parse(program, lexer=lexer)\n",
    "dump_AST(state.AST)"
   ]
  },
  {
   "cell_type": "code",
   "execution_count": null,
   "metadata": {},
   "outputs": [],
   "source": [
    "walk(state.AST)"
   ]
  },
  {
   "cell_type": "code",
   "execution_count": null,
   "metadata": {},
   "outputs": [],
   "source": [
    "program = \\\n",
    "'''\n",
    "int c = 1;\n",
    "int[3] a = {1,2,3};\n",
    "int[3] b = a;\n",
    "//b = a;\n",
    "//a[0] = 1;\n",
    "put b;\n",
    "'''"
   ]
  },
  {
   "cell_type": "code",
   "execution_count": null,
   "metadata": {},
   "outputs": [],
   "source": [
    "state.initialize()\n",
    "parser.parse(program, lexer=lexer)\n",
    "dump_AST(state.AST)"
   ]
  },
  {
   "cell_type": "code",
   "execution_count": null,
   "metadata": {},
   "outputs": [],
   "source": [
    "walk(state.AST)"
   ]
  },
  {
   "cell_type": "code",
   "execution_count": null,
   "metadata": {},
   "outputs": [],
   "source": [
    "program = \\\n",
    "'''\n",
    "int[3] a;\n",
    "a[0] = 1;\n",
    "a[1] = a[0]\n",
    "put a;\n",
    "'''"
   ]
  },
  {
   "cell_type": "code",
   "execution_count": null,
   "metadata": {},
   "outputs": [],
   "source": [
    "state.initialize()\n",
    "parser.parse(program, lexer=lexer)\n",
    "dump_AST(state.AST)"
   ]
  },
  {
   "cell_type": "code",
   "execution_count": null,
   "metadata": {},
   "outputs": [],
   "source": [
    "walk(state.AST)"
   ]
  },
  {
   "cell_type": "code",
   "execution_count": null,
   "metadata": {},
   "outputs": [],
   "source": [
    "program = \\\n",
    "'''\n",
    "put \"-- the bubble sort --\";\n",
    "\n",
    "int[8] a = {6,5,3,1,8,7,2,4};\n",
    "put \"unsorted array = \" + a;\n",
    "\n",
    "int done = 0;\n",
    "\n",
    "while (done == 0) {\n",
    "   int i = 0;\n",
    "   int swapped = 0;\n",
    "\n",
    "   while (i <= 6) {\n",
    "      if (a[i+1] <= a[i]) {\n",
    "         int t = a[i];\n",
    "         a[i] = a[i+1];\n",
    "         a[i+1] = t;\n",
    "         swapped = 1;\n",
    "      }\n",
    "      i = i+1;\n",
    "   }\n",
    "\n",
    "   if (swapped == 0)\n",
    "      done = 1;\n",
    "}\n",
    "\n",
    "put \"sorted array = \" + a;\n",
    "\n",
    "'''"
   ]
  },
  {
   "cell_type": "code",
   "execution_count": null,
   "metadata": {},
   "outputs": [],
   "source": [
    "state.initialize()\n",
    "parser.parse(program, lexer=lexer)\n",
    "walk(state.AST)"
   ]
  },
  {
   "cell_type": "code",
   "execution_count": null,
   "metadata": {},
   "outputs": [],
   "source": [
    "program = \\\n",
    "'''\n",
    "float[3] init(float[3] a) {\n",
    "   int i = 0;\n",
    "   while (i <= 2) {\n",
    "      a[i] = -1.0;\n",
    "      i = i+1;\n",
    "   }\n",
    "   return a;\n",
    "}\n",
    "\n",
    "float[3] q;\n",
    "//q = init(q);\n",
    "init(q);\n",
    "put q;\n",
    "'''"
   ]
  },
  {
   "cell_type": "code",
   "execution_count": null,
   "metadata": {},
   "outputs": [],
   "source": [
    "state.initialize()\n",
    "parser.parse(program, lexer=lexer)\n",
    "walk(state.AST)"
   ]
  },
  {
   "cell_type": "code",
   "execution_count": null,
   "metadata": {},
   "outputs": [],
   "source": [
    "program = \\\n",
    "'''\n",
    "// an implementation of quick sort\n",
    "\n",
    "// the append function takes two arrays and appends the second\n",
    "// to the first one and returns the result\n",
    "int[10] append(int[10] a, int acount, int[10] b, int bcount) {\n",
    "   int[10] result;\n",
    "   int rcount = 0;\n",
    "   int i = 0;\n",
    "\n",
    "   while (i <= acount-1) {\n",
    "      result[rcount] = a[i];\n",
    "      rcount = rcount+1;\n",
    "      i = i + 1;\n",
    "   }\n",
    "\n",
    "   i = 0;\n",
    "   while (i <= bcount-1) {\n",
    "      result[rcount] = b[i];\n",
    "      rcount = rcount+1;\n",
    "      i = i + 1;\n",
    "   }\n",
    "\n",
    "   return result;\n",
    "} \n",
    "\n",
    "// the quick sort function\n",
    "//     a is the array to be sorted\n",
    "//     count is the number of elements to be sorted in the array\n",
    "int[10] qsort(int[10] a, int count) {\n",
    "   int[10] less;\n",
    "   int[10] more;\n",
    "   int lesscount = 0;\n",
    "   int morecount = 0;\n",
    "\n",
    "   if (count <= 1)\n",
    "      return a;\n",
    "\n",
    "   int i = 1;\n",
    "   int pivot = a[0]; \n",
    "   \n",
    "   while (i <= count-1) {\n",
    "      if (a[i] <= pivot) {\n",
    "         less[lesscount] = a[i];\n",
    "         lesscount = lesscount+1;\n",
    "      }\n",
    "      else {\n",
    "         more[morecount] = a[i];\n",
    "         morecount = morecount+1;\n",
    "      }\n",
    "      i = i + 1;\n",
    "   }\n",
    "\n",
    "   less[lesscount] = pivot;\n",
    "   lesscount = lesscount+1;\n",
    "\n",
    "   less = qsort(less,lesscount);\n",
    "   more = qsort(more,morecount);\n",
    "\n",
    "   return append(less,lesscount,more,morecount);\n",
    "} \n",
    "\n",
    "// *** main driver program ***\n",
    "put \"-- the quick sort --\";\n",
    "\n",
    "int[10] a = {10,9,8,7,6,5,4,3,2,1};\n",
    "int[10] sa;\n",
    "\n",
    "put \"unsorted array = \" + a;\n",
    "sa = qsort(a,10);\n",
    "put \"sorted array = \" + sa;\n",
    "'''"
   ]
  },
  {
   "cell_type": "code",
   "execution_count": null,
   "metadata": {},
   "outputs": [],
   "source": [
    "state.initialize()\n",
    "parser.parse(program, lexer=lexer)\n",
    "walk(state.AST)"
   ]
  },
  {
   "cell_type": "code",
   "execution_count": null,
   "metadata": {},
   "outputs": [],
   "source": []
  }
 ],
 "metadata": {
  "kernelspec": {
   "display_name": "Python 3",
   "language": "python",
   "name": "python3"
  },
  "language_info": {
   "codemirror_mode": {
    "name": "ipython",
    "version": 3
   },
   "file_extension": ".py",
   "mimetype": "text/x-python",
   "name": "python",
   "nbconvert_exporter": "python",
   "pygments_lexer": "ipython3",
   "version": "3.7.3"
  }
 },
 "nbformat": 4,
 "nbformat_minor": 2
}
