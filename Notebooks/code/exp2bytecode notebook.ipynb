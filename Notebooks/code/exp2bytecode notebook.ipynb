{
 "cells": [
  {
   "cell_type": "code",
   "execution_count": 1,
   "metadata": {
    "collapsed": true
   },
   "outputs": [],
   "source": [
    "# let the notebook access the code folder\n",
    "import sys\n",
    "sys.path.insert(1,\"code\")"
   ]
  },
  {
   "cell_type": "markdown",
   "metadata": {
    "collapsed": true
   },
   "source": [
    "## testing exp2bytecode parser"
   ]
  },
  {
   "cell_type": "code",
   "execution_count": 5,
   "metadata": {},
   "outputs": [],
   "source": [
    "from exp2bytecode_lex import lexer, tokens"
   ]
  },
  {
   "cell_type": "code",
   "execution_count": 6,
   "metadata": {},
   "outputs": [],
   "source": [
    "from exp2bytecode_gram import parser"
   ]
  },
  {
   "cell_type": "code",
   "execution_count": 7,
   "metadata": {
    "collapsed": true
   },
   "outputs": [],
   "source": [
    "program1 = \\\n",
    "'''\n",
    "      store x 3;\n",
    "      store y 2;\n",
    "      pushv y;\t\n",
    "      pushv x; \n",
    "      call add;\t\n",
    "      popv;\t\t\n",
    "      popv;\t\t\n",
    "      print \"The sum x+y is \" %rvx;\n",
    "      stop;\n",
    "\n",
    "add:\n",
    "     store %rvx (+ %tsx[-1] %tsx[-2]);\n",
    "     return;\n",
    "'''"
   ]
  },
  {
   "cell_type": "code",
   "execution_count": 8,
   "metadata": {},
   "outputs": [],
   "source": [
    "parser.parse(program1)"
   ]
  },
  {
   "cell_type": "code",
   "execution_count": 9,
   "metadata": {
    "collapsed": true
   },
   "outputs": [],
   "source": [
    "program2 = \\\n",
    "'''\n",
    "      store x 3;\n",
    "      store y 2;\n",
    "      pushv y;\t\t# push second parameter onto stack\n",
    "      pushv x;\t\t# push first parameter onto stack\n",
    "      call add;\t\t# push current address onto stack and jump to function\n",
    "      popv;\t\t    # pop first parameter\n",
    "      popv;\t\t    # pop second parameter\n",
    "      print \"The sum x+y is \" %rvx;\n",
    "      stop;\n",
    "\n",
    "add:\n",
    "     store a %tsx[-1];\t    # get value of first parameter\n",
    "     store b %tsx[-2];\t    # get value of second parameter\n",
    "     store %rvx (+ a b);\t# store the sum in the ‘return value register’\n",
    "     return;\t\t        # pop return address off stack and return to that address\n",
    "'''"
   ]
  },
  {
   "cell_type": "code",
   "execution_count": 10,
   "metadata": {},
   "outputs": [],
   "source": [
    "parser.parse(program2)"
   ]
  },
  {
   "cell_type": "code",
   "execution_count": 11,
   "metadata": {
    "collapsed": true
   },
   "outputs": [],
   "source": [
    "program3 = \\\n",
    "'''\n",
    "     # print the sequence 0 1 2 using recursion\n",
    "     pushv 2;\n",
    "     call seq;\n",
    "     popv;\n",
    "     stop;\n",
    "\n",
    "seq:\n",
    "     pushf 1;                 # push a frame of size 1 - variable x\n",
    "     store %tsx[0] %tsx[-2];  # initialize x with the actual parameter\n",
    "     jumpF %tsx[0] L1;        # test x\n",
    "     pushv (- %tsx[0] 1);       \n",
    "     call seq;\n",
    "     popv;\n",
    "L1:\n",
    "     print %tsx[0];\n",
    "     popf 1;                  # remove the frame from the stack\n",
    "     return;\n",
    "\n",
    "'''"
   ]
  },
  {
   "cell_type": "code",
   "execution_count": 12,
   "metadata": {},
   "outputs": [],
   "source": [
    "parser.parse(program3)"
   ]
  },
  {
   "cell_type": "markdown",
   "metadata": {},
   "source": [
    "## testing exp2bytecode frontend"
   ]
  },
  {
   "cell_type": "code",
   "execution_count": 13,
   "metadata": {
    "collapsed": true
   },
   "outputs": [],
   "source": [
    "from exp2bytecode_lex import lexer, tokens"
   ]
  },
  {
   "cell_type": "code",
   "execution_count": 14,
   "metadata": {},
   "outputs": [],
   "source": [
    "from exp2bytecode_interp_gram import parser"
   ]
  },
  {
   "cell_type": "code",
   "execution_count": 15,
   "metadata": {
    "collapsed": true
   },
   "outputs": [],
   "source": [
    "from pprint import pprint"
   ]
  },
  {
   "cell_type": "code",
   "execution_count": 16,
   "metadata": {},
   "outputs": [],
   "source": [
    "from exp2bytecode_interp_state import state\n",
    "state.initialize()"
   ]
  },
  {
   "cell_type": "code",
   "execution_count": 17,
   "metadata": {
    "collapsed": true
   },
   "outputs": [],
   "source": [
    "parser.parse(program1)"
   ]
  },
  {
   "cell_type": "code",
   "execution_count": 18,
   "metadata": {},
   "outputs": [
    {
     "name": "stdout",
     "output_type": "stream",
     "text": [
      "[('store', ('id', 'x'), ('number', 3)),\n",
      " ('store', ('id', 'y'), ('number', 2)),\n",
      " ('pushv', ('id', 'y')),\n",
      " ('pushv', ('id', 'x')),\n",
      " ('call', 'add'),\n",
      " ('popv', None),\n",
      " ('popv', None),\n",
      " ('print', 'The sum x+y is ', ('%rvx',)),\n",
      " ('stop',),\n",
      " ('store',\n",
      "  ('%rvx',),\n",
      "  ('+',\n",
      "   ('%tsx', ('UMINUS', ('number', 1))),\n",
      "   ('%tsx', ('UMINUS', ('number', 2))))),\n",
      " ('return',)]\n"
     ]
    }
   ],
   "source": [
    "pprint(state.program)"
   ]
  },
  {
   "cell_type": "code",
   "execution_count": 19,
   "metadata": {},
   "outputs": [
    {
     "name": "stdout",
     "output_type": "stream",
     "text": [
      "{'add': 9}\n"
     ]
    }
   ],
   "source": [
    "print(state.label_table)"
   ]
  },
  {
   "cell_type": "markdown",
   "metadata": {},
   "source": [
    "## testing the abstract machine"
   ]
  },
  {
   "cell_type": "code",
   "execution_count": 20,
   "metadata": {},
   "outputs": [],
   "source": [
    "from exp2bytecode_interp import interp\n"
   ]
  },
  {
   "cell_type": "code",
   "execution_count": 21,
   "metadata": {},
   "outputs": [
    {
     "name": "stdout",
     "output_type": "stream",
     "text": [
      "The sum x+y is 5\n"
     ]
    }
   ],
   "source": [
    "interp(program1)"
   ]
  },
  {
   "cell_type": "code",
   "execution_count": 24,
   "metadata": {},
   "outputs": [
    {
     "name": "stdout",
     "output_type": "stream",
     "text": [
      "The sum x+y is 5\n"
     ]
    }
   ],
   "source": [
    "interp(program2)"
   ]
  },
  {
   "cell_type": "code",
   "execution_count": 25,
   "metadata": {},
   "outputs": [
    {
     "name": "stdout",
     "output_type": "stream",
     "text": [
      "> 0\n",
      "> 1\n",
      "> 2\n"
     ]
    }
   ],
   "source": [
    "interp(program3)"
   ]
  },
  {
   "cell_type": "code",
   "execution_count": null,
   "metadata": {
    "collapsed": true
   },
   "outputs": [],
   "source": []
  }
 ],
 "metadata": {
  "kernelspec": {
   "display_name": "Python 3",
   "language": "python",
   "name": "python3"
  },
  "language_info": {
   "codemirror_mode": {
    "name": "ipython",
    "version": 3
   },
   "file_extension": ".py",
   "mimetype": "text/x-python",
   "name": "python",
   "nbconvert_exporter": "python",
   "pygments_lexer": "ipython3",
   "version": "3.6.1"
  }
 },
 "nbformat": 4,
 "nbformat_minor": 2
}
