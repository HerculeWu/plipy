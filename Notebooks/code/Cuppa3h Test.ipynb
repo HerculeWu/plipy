{
 "cells": [
  {
   "cell_type": "markdown",
   "metadata": {},
   "source": [
    "# Cuppa3h Tests"
   ]
  },
  {
   "cell_type": "markdown",
   "metadata": {},
   "source": [
    "Cuppa3h is a higher order language.  We have only implemented the parser for this language and we are testing it here."
   ]
  },
  {
   "cell_type": "code",
   "execution_count": 1,
   "metadata": {},
   "outputs": [],
   "source": [
    "from cuppa3h_lex import lexer\n",
    "from cuppa3h_gram import parser"
   ]
  },
  {
   "cell_type": "code",
   "execution_count": 2,
   "metadata": {
    "collapsed": true
   },
   "outputs": [],
   "source": [
    "inc = \\\n",
    "'''\n",
    "declare inc = function (x) return x+1\n",
    "declare icecream = inc\n",
    "\n",
    "put inc(1)\n",
    "put icecream(1)\n",
    "'''"
   ]
  },
  {
   "cell_type": "code",
   "execution_count": 3,
   "metadata": {},
   "outputs": [],
   "source": [
    "parser.parse(inc, lexer=lexer)"
   ]
  },
  {
   "cell_type": "code",
   "execution_count": 4,
   "metadata": {
    "collapsed": true
   },
   "outputs": [],
   "source": [
    "apply = \\\n",
    "'''\n",
    "declare inc = function (x) return x+1\n",
    "declare apply = function(f,x) return f(x)\n",
    "\n",
    "put apply(inc,1)\n",
    "'''"
   ]
  },
  {
   "cell_type": "code",
   "execution_count": 5,
   "metadata": {},
   "outputs": [],
   "source": [
    "parser.parse(apply, lexer=lexer)"
   ]
  },
  {
   "cell_type": "code",
   "execution_count": 6,
   "metadata": {
    "collapsed": true
   },
   "outputs": [],
   "source": [
    "select = \\\n",
    "'''\n",
    "declare inc = function (x) return x+1;\n",
    "declare dec = function (x) return x-1;\n",
    "declare select = function (f,g,q) {\n",
    "   if (q == 0)\n",
    "       return f;\n",
    "   else\n",
    "       return g;\n",
    "}\n",
    "\n",
    "put select(inc,dec,1)(3);\n",
    "'''"
   ]
  },
  {
   "cell_type": "code",
   "execution_count": 7,
   "metadata": {
    "collapsed": true
   },
   "outputs": [],
   "source": [
    "parser.parse(select, lexer=lexer)"
   ]
  },
  {
   "cell_type": "code",
   "execution_count": 8,
   "metadata": {
    "collapsed": true
   },
   "outputs": [],
   "source": [
    "anom = \\\n",
    "'''\n",
    "put (function (x) return x+1) (3);\n",
    "'''"
   ]
  },
  {
   "cell_type": "code",
   "execution_count": 9,
   "metadata": {
    "collapsed": true
   },
   "outputs": [],
   "source": [
    "parser.parse(anom, lexer=lexer)"
   ]
  },
  {
   "cell_type": "code",
   "execution_count": null,
   "metadata": {
    "collapsed": true
   },
   "outputs": [],
   "source": []
  }
 ],
 "metadata": {
  "kernelspec": {
   "display_name": "Python 3",
   "language": "python",
   "name": "python3"
  },
  "language_info": {
   "codemirror_mode": {
    "name": "ipython",
    "version": 3
   },
   "file_extension": ".py",
   "mimetype": "text/x-python",
   "name": "python",
   "nbconvert_exporter": "python",
   "pygments_lexer": "ipython3",
   "version": "3.6.1"
  }
 },
 "nbformat": 4,
 "nbformat_minor": 2
}
