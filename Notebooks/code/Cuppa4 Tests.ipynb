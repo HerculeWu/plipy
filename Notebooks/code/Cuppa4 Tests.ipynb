{
 "cells": [
  {
   "cell_type": "code",
   "execution_count": 1,
   "metadata": {},
   "outputs": [],
   "source": [
    "from cuppa4_lex import lexer\n",
    "from cuppa4_gram import parser\n"
   ]
  },
  {
   "cell_type": "code",
   "execution_count": 4,
   "metadata": {},
   "outputs": [],
   "source": [
    "parser.parse(\"declare x = 3.0\", lexer=lexer)"
   ]
  },
  {
   "cell_type": "markdown",
   "metadata": {},
   "source": [
    "## Testing the interpeter"
   ]
  },
  {
   "cell_type": "code",
   "execution_count": null,
   "metadata": {
    "collapsed": true
   },
   "outputs": [],
   "source": [
    "add = \\\n",
    "'''\n",
    "declare add(a,b) \n",
    "{\n",
    "    return a+b;\n",
    "}\n",
    "\n",
    "declare x = add(3.0,2);\n",
    "put x;\n",
    "'''\n",
    "\n",
    "seqsum = \\\n",
    "'''\n",
    "declare seqsum(n) \n",
    "{\n",
    "    \n",
    "    declare add(a,b) \n",
    "    {\n",
    "        return a+b;\n",
    "    }\n",
    "        \n",
    "    declare i = 1;\n",
    "    declare sum = 0;\n",
    "        \n",
    "    while (i <= n) \n",
    "    {\n",
    "        sum = add(sum,i);\n",
    "        i = i + 1;\n",
    "    }\n",
    "        \n",
    "    put sum;\n",
    "}\n",
    "\n",
    "seqsum(10);\n",
    "'''\n",
    "\n",
    "and_prog = \\\n",
    "'''\n",
    "declare and(a,b)\n",
    "{\n",
    "    return a*b;\n",
    "}\n",
    "\n",
    "put and(1,1);\n",
    "put and(1,0);\n",
    "put and(0,1);\n",
    "put and(0,0);\n",
    "'''\n",
    "\n",
    "fact = \\\n",
    "'''\n",
    "// computes the factorial of x = 3\n",
    "declare x = 3;\n",
    "declare y = 1;\n",
    "while (1 <= x) \n",
    "{\n",
    "      y = y * x;\n",
    "      x = x - 1;\n",
    "}\n",
    "put y;\n",
    "'''\n",
    "\n",
    "factrec = \\\n",
    "'''\n",
    "// recursive implementation of factorial\n",
    "declare fact(x) \n",
    "{\n",
    "     if (x <= 1)\n",
    "        return 1;\n",
    "     else \n",
    "        return fact(x-1) * x;\n",
    "}\n",
    "\n",
    "put fact(3);\n",
    "'''\n",
    "\n",
    "fold = \\\n",
    "'''\n",
    "declare x = (3 + 2) / 5;\n",
    "put x;\n",
    "'''\n",
    "\n",
    "\n",
    "func1 = \\\n",
    "'''\n",
    "declare f () {\n",
    " put(1001);\n",
    "}\n",
    "\n",
    "f();\n",
    "'''"
   ]
  },
  {
   "cell_type": "code",
   "execution_count": null,
   "metadata": {
    "collapsed": true
   },
   "outputs": [],
   "source": [
    "from cuppa3_interp import interp"
   ]
  },
  {
   "cell_type": "code",
   "execution_count": null,
   "metadata": {},
   "outputs": [],
   "source": [
    "interp(add)"
   ]
  },
  {
   "cell_type": "code",
   "execution_count": null,
   "metadata": {},
   "outputs": [],
   "source": [
    "interp(seqsum)"
   ]
  },
  {
   "cell_type": "code",
   "execution_count": null,
   "metadata": {},
   "outputs": [],
   "source": [
    "interp(and_prog)"
   ]
  },
  {
   "cell_type": "code",
   "execution_count": null,
   "metadata": {},
   "outputs": [],
   "source": [
    "interp(fact)"
   ]
  },
  {
   "cell_type": "code",
   "execution_count": null,
   "metadata": {},
   "outputs": [],
   "source": [
    "interp(factrec)"
   ]
  },
  {
   "cell_type": "code",
   "execution_count": null,
   "metadata": {},
   "outputs": [],
   "source": [
    "interp(fold)"
   ]
  },
  {
   "cell_type": "code",
   "execution_count": null,
   "metadata": {},
   "outputs": [],
   "source": [
    "interp(func1)"
   ]
  },
  {
   "cell_type": "markdown",
   "metadata": {},
   "source": [
    "Testing our interpreter on the recursive computation of the Fibonacci sequence"
   ]
  },
  {
   "cell_type": "code",
   "execution_count": null,
   "metadata": {
    "collapsed": true
   },
   "outputs": [],
   "source": [
    "fib = \\\n",
    "'''\n",
    "declare fib(n)\n",
    "{    \n",
    "    if (n == 0)\n",
    "        return 0;\n",
    "    else if (n == 1)\n",
    "        return 1;\n",
    "    else\n",
    "        return fib(n-1) + fib(n-2);\n",
    "}\n",
    "\n",
    "// fibonacci sequence: 0,1,1,2,3,5,8,13,21,34,55,89,144,...\n",
    "declare i = 0\n",
    "while (i <= 12)\n",
    "{\n",
    "    put fib(i)\n",
    "    i = i + 1\n",
    "}\n",
    "'''"
   ]
  },
  {
   "cell_type": "code",
   "execution_count": null,
   "metadata": {},
   "outputs": [],
   "source": [
    "interp(fib)"
   ]
  },
  {
   "cell_type": "code",
   "execution_count": null,
   "metadata": {
    "collapsed": true
   },
   "outputs": [],
   "source": [
    "scope = \\\n",
    "'''\n",
    "declare step = 10\n",
    "declare inc(x) return x + step\n",
    "{\n",
    "    declare step = 2\n",
    "    put inc(5)\n",
    "}\n",
    "'''"
   ]
  },
  {
   "cell_type": "code",
   "execution_count": null,
   "metadata": {},
   "outputs": [],
   "source": [
    "interp(scope)"
   ]
  },
  {
   "cell_type": "markdown",
   "metadata": {},
   "source": [
    "## Explaining the throwing of Return Values"
   ]
  },
  {
   "cell_type": "code",
   "execution_count": null,
   "metadata": {
    "collapsed": true
   },
   "outputs": [],
   "source": [
    "from cuppa3_lex import lexer\n",
    "from cuppa3_frontend_gram import parser\n",
    "from cuppa3_state import state\n",
    "from cuppa3_interp_walk import walk\n",
    "from grammar_stuff import dump_AST"
   ]
  },
  {
   "cell_type": "code",
   "execution_count": null,
   "metadata": {
    "collapsed": true
   },
   "outputs": [],
   "source": [
    "inc = \\\n",
    "'''\n",
    "declare inc(i) \n",
    "{\n",
    "     return i+1;\n",
    "}\n",
    "'''\n",
    "\n",
    "prog = \\\n",
    "'''\n",
    "declare y = inc(1);\n",
    "put y;\n",
    "'''"
   ]
  },
  {
   "cell_type": "code",
   "execution_count": null,
   "metadata": {
    "collapsed": true
   },
   "outputs": [],
   "source": [
    "parser.parse(inc,lexer=lexer)"
   ]
  },
  {
   "cell_type": "code",
   "execution_count": null,
   "metadata": {},
   "outputs": [],
   "source": [
    "dump_AST(state.AST)"
   ]
  },
  {
   "cell_type": "code",
   "execution_count": null,
   "metadata": {
    "collapsed": true
   },
   "outputs": [],
   "source": [
    "parser.parse(prog,lexer=lexer)"
   ]
  },
  {
   "cell_type": "code",
   "execution_count": null,
   "metadata": {},
   "outputs": [],
   "source": [
    "dump_AST(state.AST)"
   ]
  },
  {
   "cell_type": "code",
   "execution_count": null,
   "metadata": {},
   "outputs": [],
   "source": [
    "print(inc + prog)"
   ]
  },
  {
   "cell_type": "code",
   "execution_count": null,
   "metadata": {},
   "outputs": [],
   "source": [
    "factfunc = \\\n",
    "'''\n",
    "// recursive implementation of factorial\n",
    "declare fact(x) \n",
    "{\n",
    "     if (x <= 1)\n",
    "        return 1;\n",
    "     else \n",
    "        return fact(x-1) * x;\n",
    "}\n",
    "'''\n",
    "state.initialize()\n",
    "parser.parse(factfunc,lexer=lexer)\n",
    "dump_AST(state.AST)"
   ]
  },
  {
   "cell_type": "code",
   "execution_count": null,
   "metadata": {
    "collapsed": true
   },
   "outputs": [],
   "source": []
  }
 ],
 "metadata": {
  "kernelspec": {
   "display_name": "Python 3",
   "language": "python",
   "name": "python3"
  },
  "language_info": {
   "codemirror_mode": {
    "name": "ipython",
    "version": 3
   },
   "file_extension": ".py",
   "mimetype": "text/x-python",
   "name": "python",
   "nbconvert_exporter": "python",
   "pygments_lexer": "ipython3",
   "version": "3.6.1"
  }
 },
 "nbformat": 4,
 "nbformat_minor": 2
}
