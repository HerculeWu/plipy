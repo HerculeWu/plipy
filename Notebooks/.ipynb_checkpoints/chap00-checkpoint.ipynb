{
 "cells": [
  {
   "cell_type": "markdown",
   "metadata": {},
   "source": [
    "## plipy\n",
    "\n",
    "\n",
    "![cover image](cover-image.gif)\n",
    "\n",
    "\n",
    "## Programming Language Implementation with Python</h1>\n",
    "\n",
    "Lutz Hamel, University of Rhode Island\n",
    "\n",
    "DRAFT - May 2017\n",
    "\n",
    "The text is released under the [CC-BY-NC-ND license](https://creativecommons.org/licenses/by-nc-nd/3.0/us/legalcode), and code is released under the [MIT license](https://opensource.org/licenses/MIT)."
   ]
  },
  {
   "cell_type": "markdown",
   "metadata": {},
   "source": [
    "### [00 Front Matter](chap00.ipynb)\n",
    "- You are looking at it!"
   ]
  },
  {
   "cell_type": "markdown",
   "metadata": {},
   "source": [
    "### [01 - Programming Languages and their Processors](chap01.ipynb)\n",
    "- The Structure of Programming Languages\n",
    "- The Behavior of Programming Languages\n",
    "- Language Processors\n",
    "  - Building Blocks\n",
    "    - Syntax Analysis\n",
    "    - Semantic Analysis\n",
    "    - Code Generation\n",
    "  - Architectures\n",
    "    - The Reader\n",
    "    - The Generator\n",
    "    - The Interpreter\n",
    "    - The Translator\n",
    "    - The Simple Translator\n",
    "  - An Example: The Java Programming Language\n",
    "- Summary\n",
    "- Bibliographic Notes\n",
    "- Exercises"
   ]
  },
  {
   "cell_type": "markdown",
   "metadata": {},
   "source": [
    "### [02 - A Crash Course in Parsing and Lexing](chap02.ipynb)\n",
    "- Grammars\n",
    "  - The Basics\n",
    "  - Derivations\n",
    "  - Parse Trees\n",
    "  - An Example: The Exp0 Language\n",
    "- Parsers\n",
    "  - Top-Down Parsing\n",
    "    - Lookahead Sets\n",
    "    - Left-Recursive Grammars are not LL(1)\n",
    "    - Other Grammars that are not LL(1)\n",
    "    - A Top-Down Parsing Algorithm\n",
    "  - Bottom-Up Parsing\n",
    "    - A Bottom-Up Parsing Algorithm\n",
    "    - A Closer Look at LR(0)\n",
    "  - Building Parsers by Hand\n",
    "    - Recursive Descent is LL(1)\n",
    "- Parser Generators\n",
    "  - An Example: Our First Language Processor\n",
    "- Lexical Analysis\n",
    "  - An Example: The Exp1 Language\n",
    "- Summary\n",
    "- Bibliographic Notes\n",
    "- Exercises"
   ]
  },
  {
   "cell_type": "markdown",
   "metadata": {},
   "source": [
    "### [03 - Let the Syntax guide You](chap03.ipynb)\n",
    "\n"
   ]
  },
  {
   "cell_type": "markdown",
   "metadata": {
    "collapsed": true
   },
   "source": [
    "- An Interpreter for Exp1 using a Recursive Descent Parser\n",
    "- An Interpreter for Exp1 using an LR(1) Parser\n",
    "- A Pretty Printer for Exp1\n",
    "- Summary\n",
    "- Bibliographic Notes\n",
    "- Exercises"
   ]
  },
  {
   "cell_type": "code",
   "execution_count": null,
   "metadata": {
    "collapsed": true
   },
   "outputs": [],
   "source": []
  }
 ],
 "metadata": {
  "kernelspec": {
   "display_name": "Python 3",
   "language": "python",
   "name": "python3"
  },
  "language_info": {
   "codemirror_mode": {
    "name": "ipython",
    "version": 3
   },
   "file_extension": ".py",
   "mimetype": "text/x-python",
   "name": "python",
   "nbconvert_exporter": "python",
   "pygments_lexer": "ipython3",
   "version": "3.6.0"
  }
 },
 "nbformat": 4,
 "nbformat_minor": 2
}
