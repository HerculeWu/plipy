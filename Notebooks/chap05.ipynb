{
 "cells": [
  {
   "cell_type": "markdown",
   "metadata": {
    "collapsed": true
   },
   "source": [
    "# The Magic of Tree Walking"
   ]
  },
  {
   "cell_type": "markdown",
   "metadata": {},
   "source": [
    "In this chapter we continue our discussion of IR design.  We introduce the idea of the Abstract Syntax Tree (AST) as an IR which is well suited for more complex languages.  We show that this intermediate representation can be directly derived from the grammar itself which facilitates the IR design. We illustrate these ideas with a pretty printer program that processes a simple language called Cuppa1.  This example also illustrates a nice way to process abstract syntax trees via something called *tree walking*.  We finish the chapter by designing a tree walker which is an interpreter for our Cuppa1 language."
   ]
  },
  {
   "cell_type": "code",
   "execution_count": 2,
   "metadata": {
    "collapsed": true
   },
   "outputs": [],
   "source": [
    "# let the notebook access the code folder\n",
    "import sys\n",
    "sys.path.insert(1,\"code\")"
   ]
  },
  {
   "cell_type": "markdown",
   "metadata": {},
   "source": [
    "# Abstract Syntax Trees"
   ]
  },
  {
   "cell_type": "markdown",
   "metadata": {},
   "source": [
    "Our Exp1bytecode language from the last chapter was so straightforward that the best IR was an abstract representation of the instructions which we could then directly interpret.  In more complex languages, especially higher level languages, it is usually not possible to design such simple IRs.  Instead we use Abstract Syntax Trees (ASTs)."
   ]
  },
  {
   "cell_type": "markdown",
   "metadata": {},
   "source": [
    "<center>\n",
    "<img src=\"figures/chap05/1/figure/Slide1.jpg\" alt=\"\">\n",
    "Fig 1. The parse tree and corresponding abstract syntax tree for expression: `+ x - y z`.\n",
    "</center>\n"
   ]
  },
  {
   "cell_type": "markdown",
   "metadata": {},
   "source": [
    "One way to think about ASTs is as parse trees with all the derivation information deleted.  Think about the grammar,\n",
    "```\n",
    "exp : + exp exp\n",
    "    | - exp exp\n",
    "    | x\n",
    "    | y\n",
    "    | z\n",
    "```\n",
    "and consider the expression,\n",
    "```\n",
    "+ x - y z\n",
    "```\n",
    "Figure 1 shows both the parse tree and the AST for this expression.  It should be easy to see that both trees represent the same computation, namely that the difference of `y` and `z` is added to `x`.  Abstract syntax trees just represent these computations in an easier and  much more accessible way.\n",
    "\n",
    "There is another interesting aspect of ASTs as IRs: Because every valid program has a parse tree, it is always possible to construct an AST for every valid program.  In this way ASTs are the IR of choice because it doesn’t matter how complex the programming language, there will always be an AST representation for any given valid program in that language."
   ]
  },
  {
   "cell_type": "markdown",
   "metadata": {},
   "source": [
    "## The Tuple Representation of ASTs"
   ]
  },
  {
   "cell_type": "markdown",
   "metadata": {},
   "source": [
    "A convenient way to represent AST nodes is with the following structure,\n",
    "```Python\n",
    "(TYPE [, child1, child2,...])\n",
    "```\n",
    "A tree node is a tuple where the first component represents the type or name of the node followed by zero or more components each representing a child of the current node.\n",
    "\n",
    "Consider the abstract syntax tree from Figure 1 for our expression `+ x - y x`.  That AST can be encoded in our tuple notation as follows,"
   ]
  },
  {
   "cell_type": "code",
   "execution_count": 3,
   "metadata": {
    "collapsed": false
   },
   "outputs": [],
   "source": [
    "ast = ('+', 'x', ('-', 'y', 'z'))"
   ]
  },
  {
   "cell_type": "markdown",
   "metadata": {},
   "source": [
    "In order to make this easier to read the module `grammar_stuff` provides a nice function that dumps the AST in a much more readable format."
   ]
  },
  {
   "cell_type": "code",
   "execution_count": 4,
   "metadata": {
    "collapsed": false
   },
   "outputs": [
    {
     "name": "stdout",
     "output_type": "stream",
     "text": [
      "\n",
      "(+ x \n",
      "  |(- y z))\n"
     ]
    }
   ],
   "source": [
    "from grammar_stuff import dump_AST\n",
    "dump_AST(ast)"
   ]
  },
  {
   "cell_type": "markdown",
   "metadata": {},
   "source": [
    "# The Cuppa1 Programming Language"
   ]
  },
  {
   "cell_type": "markdown",
   "metadata": {},
   "source": [
    "The Cuppa1 language is a high level language and borrows many of its syntactic features from the C/Java family of languages.  The language provides high-level programming language constructs such as while loops and if-then-else statements in addition to standard arighmetic infix notation for expressions.\n",
    "\n",
    "Here is a first peek at the PLY grammar of the language."
   ]
  },
  {
   "cell_type": "markdown",
   "metadata": {},
   "source": [
    "```Python\n",
    "# %load code/cuppa1_gram.py\n",
    "# grammar for Cuppa1\n",
    "\n",
    "from ply import yacc\n",
    "from cuppa1_lex import tokens, lexer\n",
    "\n",
    "# set precedence and associativity\n",
    "# NOTE: all arithmetic operator need to have tokens\n",
    "#       so that we can put them into the precedence table\n",
    "precedence = (\n",
    "              ('left', 'EQ', 'LE'),\n",
    "              ('left', 'PLUS', 'MINUS'),\n",
    "              ('left', 'TIMES', 'DIVIDE'),\n",
    "              ('right', 'UMINUS')\n",
    "             )\n",
    "\n",
    "\n",
    "def p_grammar(_):\n",
    "    '''\n",
    "    program : stmt_list\n",
    "\n",
    "    stmt_list : stmt stmt_list\n",
    "              | empty\n",
    "\n",
    "    stmt : ID '=' exp opt_semi\n",
    "         | GET ID opt_semi\n",
    "         | PUT exp opt_semi\n",
    "         | WHILE '(' exp ')' stmt\n",
    "         | IF '(' exp ')' stmt opt_else\n",
    "         | '{' stmt_list '}'\n",
    "\n",
    "    opt_else : ELSE stmt\n",
    "             | empty\n",
    "             \n",
    "    opt_semi : ';'\n",
    "             | empty\n",
    "\n",
    "    exp : exp PLUS exp\n",
    "        | exp MINUS exp\n",
    "        | exp TIMES exp\n",
    "        | exp DIVIDE exp\n",
    "        | exp EQ exp\n",
    "        | exp LE exp\n",
    "        | INTEGER\n",
    "        | ID\n",
    "        | '(' exp ')'\n",
    "        | MINUS exp %prec UMINUS\n",
    "    '''\n",
    "    pass\n",
    "\n",
    "def p_empty(p):\n",
    "    'empty :'\n",
    "    pass\n",
    "\n",
    "def p_error(t):\n",
    "    print(\"Syntax error at '%s'\" % t.value)\n",
    "\n",
    "### build the parser\n",
    "parser = yacc.yacc()\n",
    "```\n",
    "\n",
    "\n",
    "\n",
    "       \n",
    "   \n",
    "  \n",
    "            \n",
    "\n",
    "\n",
    "\n",
    "\n",
    "\n",
    "\n"
   ]
  },
  {
   "cell_type": "markdown",
   "metadata": {},
   "source": [
    "Ignore the precedence table for now.  Let's take a look at the grammar proper.  We see that programs are statement lists.  A statement list is a possibly empty list of statements and in Cuppa1 there are six different kinds of statements:\n",
    "\n",
    "* The assigment statement assigns the value of the expression `exp` on the right side of the `=` sign to the variable `ID` on the left side of the `=` sign.\n",
    "\n",
    "* The get statement asks the user to input an integer value which the get statement will assign to the variable `ID`. \n",
    "\n",
    "* The put statement prints out the value of the expression `exp` to the terminal.\n",
    "\n",
    "* The while loop will execute `stmt` that makes up its loop body as long as the condition `exp` evaluates to true.\n",
    "\n",
    "* The if statement will execute the statement `stmt` if the condition `exp` evaluates to true otherwise it will execute the else statement if present.\n",
    "\n",
    "* The block statement which a list of statements appearing within curly braces.\n",
    "\n",
    "Note that statements can be followed by an optional semicolon.\n",
    "\n",
    "Reading further in the grammar we see that expressions are infix and Cuppa1 supports all the normal arithmetic operations.  It also supports two relational operators: equal and less equal.  Expressions can also be integer values and variable names as well as parenthesized expressions and unary minus.\n",
    "\n",
    "It now is a good time to take look at the precedence table at the top of the grammar.  We need to tell the parser generator about the precendence and associativity of each arithmetic opertor so that the expressions are parsed correctly.  Consider the expression `3 * 4 + 1`.  Without the precedence and associativity information an LR parser would parse this as `3 * (4 + 1)` which is of course not correct knowing that multiplication has a higher precednce than addition.  If we inform the parser of the precedence and associativity of the various operators then an LR parser will parse this correctly as `(3 * 4) + 1`.  \n",
    "\n",
    "Looking at the precedence table more closely we see that all the operators are left associative with the exception of the unary minus which is right associative.\n",
    "We also see that the relational operators have the lowest precedence, addition and subtraction are at the next level, the multiplication and division operators are above that, and finally we have the unary minus at the highest level of precedence.  That is each row in the precedence table represents a precedence level and the rows are sorted in increasing precendence level.\n"
   ]
  },
  {
   "cell_type": "markdown",
   "metadata": {},
   "source": [
    "From the lexical perspective there are no surprises."
   ]
  },
  {
   "cell_type": "markdown",
   "metadata": {},
   "source": [
    "```Python\n",
    "# %load code/cuppa1_lex.py\n",
    "# Lexer for Cuppa1\n",
    "\n",
    "from ply import lex\n",
    "\n",
    "reserved = {\n",
    "    'get' : 'GET',\n",
    "    'put' : 'PUT',\n",
    "    'if' : 'IF',\n",
    "    'else' : 'ELSE',\n",
    "    'while' : 'WHILE'\n",
    "}\n",
    "\n",
    "literals = [';','=','(',')','{','}']\n",
    "\n",
    "tokens = [\n",
    "          'PLUS','MINUS','TIMES','DIVIDE',\n",
    "          'EQ','LE',\n",
    "          'INTEGER','ID',\n",
    "          ] + list(reserved.values())\n",
    "\n",
    "t_PLUS    = r'\\+'\n",
    "t_MINUS   = r'-'\n",
    "t_TIMES   = r'\\*'\n",
    "t_DIVIDE  = r'/'\n",
    "t_EQ      = r'=='\n",
    "t_LE      = r'<='\n",
    "\n",
    "t_ignore = ' \\t'\n",
    "\n",
    "def t_ID(t):\n",
    "    r'[a-zA-Z_][a-zA-Z_0-9]*'\n",
    "    t.type = reserved.get(t.value,'ID')    # Check for reserved words\n",
    "    return t\n",
    "\n",
    "def t_INTEGER(t):\n",
    "    r'[0-9]+'\n",
    "    return t\n",
    "\n",
    "def t_COMMENT(t):\n",
    "    r'//.*'\n",
    "    pass\n",
    "\n",
    "def t_NEWLINE(t):\n",
    "    r'\\n'\n",
    "    pass\n",
    "\n",
    "def t_error(t):\n",
    "    print(\"Illegal character %s\" % t.value[0])\n",
    "    t.lexer.skip(1)\n",
    "\n",
    "# build the lexer\n",
    "lexer = lex.lex(debug=0)\n",
    "```\n",
    "\n",
    "\n",
    "\n",
    "\n",
    "\n",
    "\n",
    "       \n",
    "   \n",
    "  \n",
    "            \n",
    "\n",
    "\n",
    "\n",
    "\n",
    "\n",
    "\n"
   ]
  },
  {
   "cell_type": "markdown",
   "metadata": {},
   "source": [
    "Perhaps the one thing to point out is the inclusion of comments that start with `//` and then run to the end of the line are now part of the language.\n",
    "\n",
    "Here are a couple of programs written in Cuppa1."
   ]
  },
  {
   "cell_type": "code",
   "execution_count": 5,
   "metadata": {
    "collapsed": false
   },
   "outputs": [
    {
     "name": "stderr",
     "output_type": "stream",
     "text": [
      "Generating LALR tables\n",
      "WARNING: 1 shift/reduce conflict\n"
     ]
    }
   ],
   "source": [
    "from cuppa1_gram import parser"
   ]
  },
  {
   "cell_type": "code",
   "execution_count": 6,
   "metadata": {
    "collapsed": false
   },
   "outputs": [],
   "source": [
    "p1 = \\\n",
    "'''\n",
    "get x\n",
    "x = x +1\n",
    "put x\n",
    "'''\n",
    "\n",
    "parser.parse(p1)"
   ]
  },
  {
   "cell_type": "code",
   "execution_count": 7,
   "metadata": {
    "collapsed": false
   },
   "outputs": [],
   "source": [
    "fact = \\\n",
    "'''\n",
    "get x;\n",
    "y = 1;\n",
    "while (1 <= x)\n",
    "{\n",
    "      y = y * x;\n",
    "      x = x - 1;\n",
    "}\n",
    "put y;\n",
    "'''\n",
    "\n",
    "parser.parse(fact)"
   ]
  },
  {
   "cell_type": "markdown",
   "metadata": {},
   "source": [
    "Here is an interesting program that loops forever but does nothing,"
   ]
  },
  {
   "cell_type": "code",
   "execution_count": 8,
   "metadata": {
    "collapsed": true
   },
   "outputs": [],
   "source": [
    "loop = \"while (1) {}\"\n",
    "\n",
    "parser.parse(loop)"
   ]
  },
  {
   "cell_type": "markdown",
   "metadata": {},
   "source": [
    "# The Cuppa1 Frontend"
   ]
  },
  {
   "cell_type": "markdown",
   "metadata": {},
   "source": [
    "In the technical jargon of programming language implementation a *frontent* is a parser that constructs an abstract syntax tree for an input program and fills in the symbol table with basic variable information. Our Cuppa1 frontend consists of the parser specification from above enriched with embedded actions that construct tuple based AST and fills in the symbol table with variable names that defined using either the assignment statement or the get statement.\n",
    "\n",
    "Before we get into the details of the frontend we need to introduce the Cuppa1 state.  A state in Cuppa1 is not unlike the state of the abstract machine for the Exp1bytecode.  Here the state is the computation represented by the AST together with a symbol table.  A state is an object,"
   ]
  },
  {
   "cell_type": "code",
   "execution_count": 9,
   "metadata": {
    "collapsed": true
   },
   "outputs": [],
   "source": [
    "# %load code/cuppa1_state\n",
    "\n",
    "class State:\n",
    "    def __init__(self):\n",
    "        self.initialize()\n",
    "\n",
    "    def initialize(self):\n",
    "        # symbol table to hold variable-value associations\n",
    "        self.symbol_table = {}\n",
    "\n",
    "        # when done parsing this variable will hold our AST\n",
    "        self.AST = None\n",
    "\n",
    "state = State()\n"
   ]
  },
  {
   "cell_type": "markdown",
   "metadata": {},
   "source": [
    "The member function `initialize` initializes a state object by clearing the symbol table and setting the AST to `None`.\n",
    "\n",
    "The full fronent specification appear in the  [Appendix](Cuppa1 Frontend.ipynb).  Here we take a look at telling aspects of the specification.  Perhaps the best part to start with is the specificaiton of the statements."
   ]
  },
  {
   "cell_type": "markdown",
   "metadata": {},
   "source": [
    "## Statements"
   ]
  },
  {
   "cell_type": "code",
   "execution_count": 13,
   "metadata": {
    "collapsed": true
   },
   "outputs": [],
   "source": [
    "# %load -s p_stmt code/cuppa1_frontend_gram.py\n",
    "def p_stmt(p):\n",
    "    '''\n",
    "    stmt : ID '=' exp opt_semi\n",
    "         | GET ID opt_semi\n",
    "         | PUT exp opt_semi\n",
    "         | WHILE '(' exp ')' stmt\n",
    "         | IF '(' exp ')' stmt opt_else\n",
    "         | '{' stmt_list '}'\n",
    "    '''\n",
    "    if p[2] == '=':\n",
    "        p[0] = ('assign', p[1], p[3])\n",
    "        state.symbol_table[p[1]] = None\n",
    "    elif p[1] == 'get':\n",
    "        p[0] = ('get', p[2])\n",
    "        state.symbol_table[p[2]] = None\n",
    "    elif p[1] == 'put':\n",
    "        p[0] = ('put', p[2])\n",
    "    elif p[1] == 'while':\n",
    "        p[0] = ('while', p[3], p[5])\n",
    "    elif p[1] == 'if':\n",
    "        p[0] = ('if', p[3], p[5], p[6])\n",
    "    elif p[1] == '{':\n",
    "        p[0] = ('block', p[2])\n",
    "    else:\n",
    "        raise ValueError(\"unexpected symbol {}\".format(p[1]))\n"
   ]
  },
  {
   "cell_type": "markdown",
   "metadata": {},
   "source": [
    "Looking at the code carefully we see that the embedded actions build AST nodes for the corresponding statements.  Consider the assignment statement,\n",
    "```\n",
    "stmt : ID '=' exp opt_semi\n",
    "```\n",
    "The embedded actions for this grammar rule construct the following tuple where `p[1]` contains the name of the variable of the token `ID` and \n",
    "`p[3]` contains the AST generated by the non-terminal `exp`,\n",
    "```Python\n",
    "('assign', p[1], p[3])\n",
    "```\n",
    "In addition, the variable name in `p[1]` is written to the symbol table,\n",
    "```Python\n",
    "state.symbol_table[p[1]] = None\n",
    "```\n",
    "However, we are not doing any processing at this point so the value we record for the variable is set to `None`.  As pointed out above when we discussed the syntax of Cuppa1, the non-terminal `opt_semi` means that the statement can be followed by an optional semicolon.  \n",
    "\n",
    "The get statement specification follows a very similar pattern.  Here is the grammar rule for get statemments,\n",
    "```\n",
    "stmt : GET ID opt_semi\n",
    "```\n",
    "The corresponding embedded actions build a tuple where `p[2]` holds the variable name,\n",
    "```Python\n",
    "('get', p[2])\n",
    "```\n",
    "Again, the variable is recorded in the symbol table with its value set to `None`,\n",
    "```Python\n",
    "state.symbol_table[p[2]] = None\n",
    "```\n",
    "\n",
    "The remainder of the embedded actions are pretty straight forward with the execption perhaps of the if statement.  From our discussion on the syntax of Cuppa1 above we know that if statements come in two flavors: `if-then` and `if-then-else`.  Our frontend specification has to deal with these two flavors effectively.  From the grammar snippet above we have the rule,\n",
    "```\n",
    "stmt : IF '(' exp ')' stmt opt_else\n",
    "```\n",
    "which specifies that the `if-then` statement can be followed by an optional else-part.  The tuple that is being constructed is,\n",
    "```Python\n",
    "('if', p[3], p[5], p[6])\n",
    "```\n",
    "where `p[3]` is the AST generated by the non-terminal `exp`, `p[5]` is the AST generated by the non-terminal `stmt`.\n",
    "The question is, what does `p[6]` contain?  In order to answer this we need to take a look at the embedded actions for\n",
    "the rule defining the non-terminal `opt_else`."
   ]
  },
  {
   "cell_type": "code",
   "execution_count": 14,
   "metadata": {
    "collapsed": true
   },
   "outputs": [],
   "source": [
    "# %load -s p_opt_else code/cuppa1_frontend_gram.py\n",
    "def p_opt_else(p):\n",
    "    '''\n",
    "    opt_else : ELSE stmt\n",
    "             | empty\n",
    "    '''\n",
    "    if p[1] == 'else':\n",
    "        p[0] = p[2]\n",
    "    else:\n",
    "        p[0] = p[1]\n",
    "    "
   ]
  },
  {
   "cell_type": "markdown",
   "metadata": {},
   "source": [
    "The embedded actions for the `opt_else` non-terminal specify that if an else-part exists then copy the AST of the corresponding statement.  That means that `p[6]` above will have the AST of the else-statement if the else-part exists. If the else-part does not exist then we copy whatever the non-terminal `else` produces.\n",
    "\n",
    "For thie we need to take a look at the definition of the non-terminal `empty`."
   ]
  },
  {
   "cell_type": "code",
   "execution_count": 15,
   "metadata": {
    "collapsed": true
   },
   "outputs": [],
   "source": [
    "# %load -s p_empty code/cuppa1_frontend_gram.py\n",
    "def p_empty(p):\n",
    "    'empty :'\n",
    "    p[0] = ('nil',)\n"
   ]
  },
  {
   "cell_type": "markdown",
   "metadata": {},
   "source": [
    "The embedded action for `empty` constructs a tuple with no children and of the type `nil`.  That means, `p[6]` in the embedded action for the if statement will have the node,\n",
    "```Python\n",
    "('nil',)\n",
    "```\n",
    "indicating that there is no else-part.  This is worthwhile to remember because later on when we actually walk the tree in order to do some processing we need to be aware of these to distinct tree patterns."
   ]
  },
  {
   "cell_type": "markdown",
   "metadata": {},
   "source": [
    "## Statement Lists and Programs"
   ]
  },
  {
   "cell_type": "markdown",
   "metadata": {},
   "source": [
    "Statement lists and programs are specified as follows in the frontend,"
   ]
  },
  {
   "cell_type": "code",
   "execution_count": null,
   "metadata": {
    "collapsed": false
   },
   "outputs": [],
   "source": [
    "# %load -s p_prog,p_stmt_list code/cuppa1_frontend_gram.py\n",
    "def p_prog(p):\n",
    "    '''\n",
    "    program : stmt_list\n",
    "    '''\n",
    "    state.AST = p[1]\n",
    "\n",
    "\n",
    "def p_stmt_list(p):\n",
    "    '''\n",
    "    stmt_list : stmt stmt_list\n",
    "              | empty\n",
    "    '''\n",
    "    if (len(p) == 3):\n",
    "        p[0] = ('seq', p[1], p[2])\n",
    "    elif (len(p) == 2):\n",
    "        p[0] = p[1]\n",
    "\n"
   ]
  },
  {
   "cell_type": "markdown",
   "metadata": {},
   "source": [
    "Programs in Cuppa1 are lists of statements.  The embedded action for  the rule `program : stmt_list`  will copy\n",
    "the AST computed by the non-terminal `stmt_list` in `p[1]` into the AST field of the state.\n",
    "\n",
    "The rule for statement lists,\n",
    "```\n",
    "stmt_list : stmt stmt_list\n",
    "          | empty\n",
    "\n",
    "```\n",
    "states that statement lists consist of a stament followed by statement lists or they are empty.  \n",
    "For non-empty statement lists we need a way to glue all the different statements together in the AST.\n",
    "The traditional way to do this is with a 'sequennce' node.\n",
    "Let's take a look at the embedded action for non-empty statement lists,\n",
    "```Python\n",
    "p[0] = ('seq', p[1], p[2])\n",
    "```\n",
    "Here we construct an AST node of type `seq` where the first child is the AST computed by the non-terminal `stmt` and\n",
    "the second child is the AST of the rest of the statement list computed by the non-terminal `stmt_list`.  \n",
    "\n",
    "If the statement list is empty then the corresponding embedded action,\n",
    "```Python\n",
    "p[0] = p[1]\n",
    "```\n",
    "will copy the AST computed by the non-terminal `empty`.  We know from our previous disscussion that this AST is the tree node `('nil',)`.\n",
    "\n",
    "Now, for a program with two statements,\n",
    "```\n",
    "Stmt1\n",
    "Stmt2\n",
    "```\n",
    "our frontend will compute the following AST,\n",
    "```Python\n",
    "('seq'\n",
    "    <Stmt1>\n",
    "    ('seq',\n",
    "       <Stmt2>\n",
    "       ('nil',)))\n",
    "```\n",
    "where `<Stmt1>` and `<Stmt2>` represent the ASTs for the corresponding program statements `Stmt1` and `Stmt2`.\n",
    "It is easy to see that statement lists are `nil` terminated lists constructed with `seq` nodes.  We will study this in more detail when we finished our discussion of the frontend.\n"
   ]
  },
  {
   "cell_type": "markdown",
   "metadata": {},
   "source": [
    "## Expressions"
   ]
  },
  {
   "cell_type": "markdown",
   "metadata": {},
   "source": [
    "We start our discussion of expressions in Cuppa1 with the binary operators,"
   ]
  },
  {
   "cell_type": "code",
   "execution_count": null,
   "metadata": {
    "collapsed": true
   },
   "outputs": [],
   "source": [
    "# %load -s p_binop_exp code/cuppa1_frontend_gram.py\n",
    "def p_binop_exp(p):\n",
    "    '''\n",
    "    exp : exp PLUS exp\n",
    "        | exp MINUS exp\n",
    "        | exp TIMES exp\n",
    "        | exp DIVIDE exp\n",
    "        | exp EQ exp\n",
    "        | exp LE exp\n",
    "    '''\n",
    "    p[0] = ('binop', p[2], p[1], p[3])\n",
    " "
   ]
  },
  {
   "cell_type": "markdown",
   "metadata": {},
   "source": [
    "For each of "
   ]
  }
 ],
 "metadata": {
  "kernelspec": {
   "display_name": "Python 3",
   "language": "python",
   "name": "python3"
  },
  "language_info": {
   "codemirror_mode": {
    "name": "ipython",
    "version": 3
   },
   "file_extension": ".py",
   "mimetype": "text/x-python",
   "name": "python",
   "nbconvert_exporter": "python",
   "pygments_lexer": "ipython3",
   "version": "3.6.0"
  }
 },
 "nbformat": 4,
 "nbformat_minor": 2
}
