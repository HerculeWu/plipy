{
 "cells": [
  {
   "cell_type": "markdown",
   "metadata": {},
   "source": [
    "# The Cuppa3 Compiler"
   ]
  },
  {
   "cell_type": "markdown",
   "metadata": {},
   "source": [
    "This is a notebook that let's us play around with the Cuppa3 compiler. Both as a whole running our testsuite and the individual parts."
   ]
  },
  {
   "cell_type": "code",
   "execution_count": 1,
   "metadata": {},
   "outputs": [],
   "source": [
    "from cuppa3_cc import cc\n",
    "from exp2bytecode_interp import interp as run"
   ]
  },
  {
   "cell_type": "markdown",
   "metadata": {},
   "source": [
    "## The test suite."
   ]
  },
  {
   "cell_type": "code",
   "execution_count": 2,
   "metadata": {},
   "outputs": [],
   "source": [
    "add = \\\n",
    "'''\n",
    "declare add(a,b) \n",
    "{\n",
    "    return a+b;\n",
    "}\n",
    "\n",
    "declare x = add(3,2);\n",
    "put x;\n",
    "'''\n",
    "\n",
    "seqsum = \\\n",
    "'''\n",
    "declare add(a,b) \n",
    "{\n",
    "    return a+b;\n",
    "}\n",
    "\n",
    "declare seqsum(n) \n",
    "{\n",
    "    \n",
    "    declare i = 1;\n",
    "    declare sum = 0;\n",
    "        \n",
    "    while (i <= n) \n",
    "    {\n",
    "        sum = add(sum,i);\n",
    "        i = i + 1;\n",
    "    }\n",
    "        \n",
    "    put sum;\n",
    "}\n",
    "\n",
    "seqsum(10);\n",
    "'''\n",
    "\n",
    "and_prog = \\\n",
    "'''\n",
    "declare and(a,b)\n",
    "{\n",
    "    return a*b;\n",
    "}\n",
    "\n",
    "put and(1,1);\n",
    "put and(1,0);\n",
    "put and(0,1);\n",
    "put and(0,0);\n",
    "'''\n",
    "\n",
    "fact = \\\n",
    "'''\n",
    "// computes the factorial of x = 3\n",
    "declare x = 3;\n",
    "declare y = 1;\n",
    "while (1 <= x) \n",
    "{\n",
    "      y = y * x;\n",
    "      x = x - 1;\n",
    "}\n",
    "put y;\n",
    "'''\n",
    "\n",
    "factrec = \\\n",
    "'''\n",
    "// recursive implementation of factorial\n",
    "declare fact(x) \n",
    "{\n",
    "     if (x <= 1)\n",
    "        return 1;\n",
    "     else \n",
    "        return fact(x-1) * x;\n",
    "}\n",
    "\n",
    "put fact(3);\n",
    "'''\n",
    "\n",
    "fold = \\\n",
    "'''\n",
    "declare x = (3 + 2) / 5;\n",
    "put x;\n",
    "'''\n",
    "\n",
    "\n",
    "func1 = \\\n",
    "'''\n",
    "declare f () {\n",
    " put(1001);\n",
    "}\n",
    "\n",
    "f();\n",
    "'''"
   ]
  },
  {
   "cell_type": "code",
   "execution_count": 3,
   "metadata": {},
   "outputs": [
    {
     "name": "stdout",
     "output_type": "stream",
     "text": [
      "\n",
      "declare add(a,b) \n",
      "{\n",
      "    return a+b;\n",
      "}\n",
      "\n",
      "declare x = add(3,2);\n",
      "put x;\n",
      "\n"
     ]
    }
   ],
   "source": [
    "print(add)"
   ]
  },
  {
   "cell_type": "code",
   "execution_count": 10,
   "metadata": {},
   "outputs": [
    {
     "name": "stdout",
     "output_type": "stream",
     "text": [
      "\tjump L10 ;\n",
      "#  \n",
      "# Start of function add\n",
      "#  \n",
      "add:\n",
      "\tpushf 3 ;\n",
      "\tstore %tsx[0] %tsx[-4] ;\n",
      "\tstore %tsx[-1] %tsx[-5] ;\n",
      "\tstore %tsx[-2] (+ %tsx[0] %tsx[-1]) ;\n",
      "\tstore %rvx %tsx[-2] ;\n",
      "\tpopf 3 ;\n",
      "\treturn ;\n",
      "\tpopf 3 ;\n",
      "\treturn ;\n",
      "#  \n",
      "# End of function add\n",
      "#  \n",
      "L10:\n",
      "\tnoop ;\n",
      "\tpushv 2 ;\n",
      "\tpushv 3 ;\n",
      "\tcall add ;\n",
      "\tpopv ;\n",
      "\tpopv ;\n",
      "\tstore t$0 %rvx ;\n",
      "\tstore t$1 t$0 ;\n",
      "\tprint t$1 ;\n",
      "\tstop ;\n",
      "\n"
     ]
    }
   ],
   "source": [
    "print(cc(add))"
   ]
  },
  {
   "cell_type": "code",
   "execution_count": 5,
   "metadata": {},
   "outputs": [
    {
     "name": "stdout",
     "output_type": "stream",
     "text": [
      "\n",
      "declare add(a,b) \n",
      "{\n",
      "    return a+b;\n",
      "}\n",
      "\n",
      "declare seqsum(n) \n",
      "{\n",
      "    \n",
      "    declare i = 1;\n",
      "    declare sum = 0;\n",
      "        \n",
      "    while (i <= n) \n",
      "    {\n",
      "        sum = add(sum,i);\n",
      "        i = i + 1;\n",
      "    }\n",
      "        \n",
      "    put sum;\n",
      "}\n",
      "\n",
      "seqsum(10);\n",
      "\n"
     ]
    }
   ],
   "source": [
    "print(seqsum)"
   ]
  },
  {
   "cell_type": "code",
   "execution_count": 9,
   "metadata": {},
   "outputs": [
    {
     "name": "stdout",
     "output_type": "stream",
     "text": [
      "> 20\n"
     ]
    }
   ],
   "source": [
    "run(cc(seqsum))"
   ]
  },
  {
   "cell_type": "code",
   "execution_count": 7,
   "metadata": {},
   "outputs": [
    {
     "name": "stdout",
     "output_type": "stream",
     "text": [
      "\n",
      "declare and(a,b)\n",
      "{\n",
      "    return a*b;\n",
      "}\n",
      "\n",
      "put and(1,1);\n",
      "put and(1,0);\n",
      "put and(0,1);\n",
      "put and(0,0);\n",
      "\n"
     ]
    }
   ],
   "source": [
    "print(and_prog)"
   ]
  },
  {
   "cell_type": "code",
   "execution_count": 8,
   "metadata": {},
   "outputs": [
    {
     "name": "stdout",
     "output_type": "stream",
     "text": [
      "> 1\n",
      "> 0\n",
      "> 0\n",
      "> 0\n"
     ]
    }
   ],
   "source": [
    "run(cc(and_prog))"
   ]
  },
  {
   "cell_type": "code",
   "execution_count": 9,
   "metadata": {},
   "outputs": [
    {
     "name": "stdout",
     "output_type": "stream",
     "text": [
      "\n",
      "// computes the factorial of x = 3\n",
      "declare x = 3;\n",
      "declare y = 1;\n",
      "while (1 <= x) \n",
      "{\n",
      "      y = y * x;\n",
      "      x = x - 1;\n",
      "}\n",
      "put y;\n",
      "\n"
     ]
    }
   ],
   "source": [
    "print(fact)"
   ]
  },
  {
   "cell_type": "code",
   "execution_count": 10,
   "metadata": {},
   "outputs": [
    {
     "name": "stdout",
     "output_type": "stream",
     "text": [
      "> 6\n"
     ]
    }
   ],
   "source": [
    "run(cc(fact))"
   ]
  },
  {
   "cell_type": "code",
   "execution_count": 11,
   "metadata": {},
   "outputs": [
    {
     "name": "stdout",
     "output_type": "stream",
     "text": [
      "\n",
      "// recursive implementation of factorial\n",
      "declare fact(x) \n",
      "{\n",
      "     if (x <= 1)\n",
      "        return 1;\n",
      "     else \n",
      "        return fact(x-1) * x;\n",
      "}\n",
      "\n",
      "put fact(3);\n",
      "\n"
     ]
    }
   ],
   "source": [
    "print(factrec)"
   ]
  },
  {
   "cell_type": "code",
   "execution_count": 14,
   "metadata": {},
   "outputs": [
    {
     "name": "stdout",
     "output_type": "stream",
     "text": [
      "> 6\n"
     ]
    }
   ],
   "source": [
    "run(cc(factrec))"
   ]
  },
  {
   "cell_type": "code",
   "execution_count": 13,
   "metadata": {},
   "outputs": [
    {
     "name": "stdout",
     "output_type": "stream",
     "text": [
      "\n",
      "declare x = (3 + 2) / 5;\n",
      "put x;\n",
      "\n"
     ]
    }
   ],
   "source": [
    "print(fold)"
   ]
  },
  {
   "cell_type": "code",
   "execution_count": 14,
   "metadata": {},
   "outputs": [
    {
     "name": "stdout",
     "output_type": "stream",
     "text": [
      "> 1\n"
     ]
    }
   ],
   "source": [
    "run(cc(fold))"
   ]
  },
  {
   "cell_type": "code",
   "execution_count": 15,
   "metadata": {},
   "outputs": [
    {
     "name": "stdout",
     "output_type": "stream",
     "text": [
      "\n",
      "declare f () {\n",
      " put(1001);\n",
      "}\n",
      "\n",
      "f();\n",
      "\n"
     ]
    }
   ],
   "source": [
    "print(func1)"
   ]
  },
  {
   "cell_type": "code",
   "execution_count": 16,
   "metadata": {},
   "outputs": [
    {
     "name": "stdout",
     "output_type": "stream",
     "text": [
      "> 1001\n"
     ]
    }
   ],
   "source": [
    "run(cc(func1))"
   ]
  },
  {
   "cell_type": "markdown",
   "metadata": {},
   "source": [
    "Testing our interpreter on the recursive computation of the Fibonacci sequence"
   ]
  },
  {
   "cell_type": "code",
   "execution_count": 17,
   "metadata": {
    "collapsed": true
   },
   "outputs": [],
   "source": [
    "fib = \\\n",
    "'''\n",
    "declare fib(n)\n",
    "{    \n",
    "    if (n == 0)\n",
    "        return 0;\n",
    "    else if (n == 1)\n",
    "        return 1;\n",
    "    else\n",
    "        return fib(n-1) + fib(n-2);\n",
    "}\n",
    "\n",
    "// fibonacci sequence: 0,1,1,2,3,5,8,13,21,34,55,89,144,...\n",
    "declare i = 0\n",
    "while (i <= 12)\n",
    "{\n",
    "    put fib(i)\n",
    "    i = i + 1\n",
    "}\n",
    "'''"
   ]
  },
  {
   "cell_type": "code",
   "execution_count": 18,
   "metadata": {},
   "outputs": [
    {
     "name": "stdout",
     "output_type": "stream",
     "text": [
      "\tjump L12 ;\n",
      "#  \n",
      "# Start of function fib\n",
      "#  \n",
      "fib:\n",
      "\tpushf 8 ;\n",
      "\tstore %tsx[0] %tsx[-9] ;\n",
      "\tstore %tsx[-1] (== %tsx[0] 0) ;\n",
      "\tjumpF %tsx[-1] L13 ;\n",
      "\tstore %rvx 0 ;\n",
      "\tpopf 8 ;\n",
      "\treturn ;\n",
      "\tjump L14 ;\n",
      "L13:\n",
      "\tstore %tsx[-2] (== %tsx[0] 1) ;\n",
      "\tjumpF %tsx[-2] L15 ;\n",
      "\tstore %rvx 1 ;\n",
      "\tpopf 8 ;\n",
      "\treturn ;\n",
      "\tjump L16 ;\n",
      "L15:\n",
      "\tstore %tsx[-3] (- %tsx[0] 1) ;\n",
      "\tpushv %tsx[-3] ;\n",
      "\tcall fib ;\n",
      "\tpopv ;\n",
      "\tstore %tsx[-4] %rvx ;\n",
      "\tstore %tsx[-5] (- %tsx[0] 2) ;\n",
      "\tpushv %tsx[-5] ;\n",
      "\tcall fib ;\n",
      "\tpopv ;\n",
      "\tstore %tsx[-6] %rvx ;\n",
      "\tstore %tsx[-7] (+ %tsx[-4] %tsx[-6]) ;\n",
      "\tstore %rvx %tsx[-7] ;\n",
      "\tpopf 8 ;\n",
      "\treturn ;\n",
      "L16:\n",
      "\tnoop ;\n",
      "L14:\n",
      "\tnoop ;\n",
      "\tpopf 8 ;\n",
      "\treturn ;\n",
      "#  \n",
      "# End of function fib\n",
      "#  \n",
      "L12:\n",
      "\tnoop ;\n",
      "\tstore t$0 0 ;\n",
      "L17:\n",
      "\tstore t$1 (<= t$0 12) ;\n",
      "\tjumpF t$1 L18 ;\n",
      "\tpushv t$0 ;\n",
      "\tcall fib ;\n",
      "\tpopv ;\n",
      "\tstore t$2 %rvx ;\n",
      "\tprint t$2 ;\n",
      "\tstore t$3 (+ t$0 1) ;\n",
      "\tstore t$0 t$3 ;\n",
      "\tjump L17 ;\n",
      "L18:\n",
      "\tnoop ;\n",
      "\tstop ;\n",
      "\n"
     ]
    }
   ],
   "source": [
    "print(cc(fib))"
   ]
  },
  {
   "cell_type": "markdown",
   "metadata": {},
   "source": [
    "## Testing parts of the compiler"
   ]
  },
  {
   "cell_type": "code",
   "execution_count": 5,
   "metadata": {
    "collapsed": true
   },
   "outputs": [],
   "source": [
    "from cuppa3_lex import lexer\n",
    "from cuppa3_cc_frontend_gram import parser\n",
    "from cuppa3_cc_state import state\n",
    "from cuppa3_cc_tree_rewrite import walk as rewrite\n",
    "from cuppa3_cc_codegen import walk as codegen\n",
    "from cuppa3_cc_output import output\n",
    "from grammar_stuff import dump_AST\n",
    "from cuppa3_cc import cc\n",
    "from pprint import pprint"
   ]
  },
  {
   "cell_type": "code",
   "execution_count": 6,
   "metadata": {
    "collapsed": true
   },
   "outputs": [],
   "source": [
    "state.initialize()"
   ]
  },
  {
   "cell_type": "code",
   "execution_count": 7,
   "metadata": {},
   "outputs": [
    {
     "name": "stdout",
     "output_type": "stream",
     "text": [
      "\n",
      "declare add(a,b) \n",
      "{\n",
      "    return a+b;\n",
      "}\n",
      "\n",
      "declare x = add(3,2);\n",
      "put x;\n",
      "\n"
     ]
    }
   ],
   "source": [
    "print(add)"
   ]
  },
  {
   "cell_type": "code",
   "execution_count": 8,
   "metadata": {
    "collapsed": true
   },
   "outputs": [],
   "source": [
    "parser.parse(add, lexer=lexer)"
   ]
  },
  {
   "cell_type": "code",
   "execution_count": 9,
   "metadata": {},
   "outputs": [
    {
     "name": "stdout",
     "output_type": "stream",
     "text": [
      "\n",
      "(seq \n",
      "  |(fundecl add \n",
      "  |  |(seq \n",
      "  |  |  |(id a) \n",
      "  |  |  |(seq \n",
      "  |  |  |  |(id b) \n",
      "  |  |  |  |(nil))) \n",
      "  |  |(block \n",
      "  |  |  |(seq \n",
      "  |  |  |  |(return \n",
      "  |  |  |  |  |(+ \n",
      "  |  |  |  |  |  |(id a) \n",
      "  |  |  |  |  |  |(id b))) \n",
      "  |  |  |  |(nil)))) \n",
      "  |(seq \n",
      "  |  |(declare x \n",
      "  |  |  |(callexp add \n",
      "  |  |  |  |(seq \n",
      "  |  |  |  |  |(integer 3) \n",
      "  |  |  |  |  |(seq \n",
      "  |  |  |  |  |  |(integer 2) \n",
      "  |  |  |  |  |  |(nil))))) \n",
      "  |  |(seq \n",
      "  |  |  |(put \n",
      "  |  |  |  |(id x)) \n",
      "  |  |  |(nil))))\n"
     ]
    }
   ],
   "source": [
    "dump_AST(state.AST)"
   ]
  },
  {
   "cell_type": "code",
   "execution_count": 10,
   "metadata": {},
   "outputs": [
    {
     "name": "stdout",
     "output_type": "stream",
     "text": [
      "\n",
      "(seq \n",
      "  |(fundef add \n",
      "  |  |(seq %tsx[0] \n",
      "  |  |  |(seq %tsx[-1] \n",
      "  |  |  |  |(nil))) \n",
      "  |  |(block \n",
      "  |  |  |(seq \n",
      "  |  |  |  |(return \n",
      "  |  |  |  |  |(+ %tsx[-2] \n",
      "  |  |  |  |  |  |(id %tsx[0]) \n",
      "  |  |  |  |  |  |(id %tsx[-1]))) \n",
      "  |  |  |  |(nil))) 3) \n",
      "  |(seq \n",
      "  |  |(assign t$1 \n",
      "  |  |  |(callexp t$0 add \n",
      "  |  |  |  |(seq \n",
      "  |  |  |  |  |(integer 3) \n",
      "  |  |  |  |  |(seq \n",
      "  |  |  |  |  |  |(integer 2) \n",
      "  |  |  |  |  |  |(nil))))) \n",
      "  |  |(seq \n",
      "  |  |  |(put \n",
      "  |  |  |  |(id t$1)) \n",
      "  |  |  |(nil))))\n"
     ]
    }
   ],
   "source": [
    "t = rewrite(state.AST)\n",
    "dump_AST(t)"
   ]
  },
  {
   "cell_type": "code",
   "execution_count": 11,
   "metadata": {},
   "outputs": [
    {
     "name": "stdout",
     "output_type": "stream",
     "text": [
      "\tjump L0 ;\n",
      "#  \n",
      "# Start of function add\n",
      "#  \n",
      "add:\n",
      "\tpushf 3 ;\n",
      "\tstore %tsx[0] %tsx[-4] ;\n",
      "\tstore %tsx[-1] %tsx[-5] ;\n",
      "\tstore %tsx[-2] (+ %tsx[0] %tsx[-1]) ;\n",
      "\tstore %rvx %tsx[-2] ;\n",
      "\tpopf 3 ;\n",
      "\treturn ;\n",
      "\tpopf 3 ;\n",
      "\treturn ;\n",
      "#  \n",
      "# End of function add\n",
      "#  \n",
      "L0:\n",
      "\tnoop ;\n",
      "\tpushv 2 ;\n",
      "\tpushv 3 ;\n",
      "\tcall add ;\n",
      "\tpopv ;\n",
      "\tpopv ;\n",
      "\tstore t$0 %rvx ;\n",
      "\tstore t$1 t$0 ;\n",
      "\tprint t$1 ;\n",
      "\n"
     ]
    }
   ],
   "source": [
    "print(output(codegen(t)))"
   ]
  },
  {
   "cell_type": "markdown",
   "metadata": {},
   "source": [
    "## Scratch Area"
   ]
  },
  {
   "cell_type": "code",
   "execution_count": 26,
   "metadata": {
    "collapsed": true
   },
   "outputs": [],
   "source": [
    "prog_global = \\\n",
    "'''\n",
    "declare x = 1;\n",
    "{\n",
    "        declare x = 2;\n",
    "        put x;\n",
    "}\n",
    "{\n",
    "        declare x = 3;\n",
    "        put x;\n",
    "}\n",
    "put x;\n",
    "'''"
   ]
  },
  {
   "cell_type": "code",
   "execution_count": 27,
   "metadata": {},
   "outputs": [
    {
     "name": "stdout",
     "output_type": "stream",
     "text": [
      "\tstore t$0 1 ;\n",
      "\tstore t$1 2 ;\n",
      "\tprint t$1 ;\n",
      "\tstore t$2 3 ;\n",
      "\tprint t$2 ;\n",
      "\tprint t$0 ;\n",
      "\tstop ;\n",
      "\n"
     ]
    }
   ],
   "source": [
    "print(cc(prog_global))"
   ]
  },
  {
   "cell_type": "code",
   "execution_count": 28,
   "metadata": {},
   "outputs": [
    {
     "name": "stdout",
     "output_type": "stream",
     "text": [
      "\tstore t$0 (* 3 2) ;\n",
      "\tstore t$1 (+ t$0 4) ;\n",
      "\tprint t$1 ;\n",
      "\tstop ;\n",
      "\n"
     ]
    }
   ],
   "source": [
    "print(cc('put 3*2+4;'))"
   ]
  },
  {
   "cell_type": "code",
   "execution_count": 29,
   "metadata": {},
   "outputs": [
    {
     "name": "stdout",
     "output_type": "stream",
     "text": [
      "\tjump L20 ;\n",
      "#  \n",
      "# Start of function inc\n",
      "#  \n",
      "inc:\n",
      "\tpushf 2 ;\n",
      "\tstore %tsx[0] %tsx[-3] ;\n",
      "\tstore %tsx[-1] (+ %tsx[0] 1) ;\n",
      "\tstore %rvx %tsx[-1] ;\n",
      "\tpopf 2 ;\n",
      "\treturn ;\n",
      "\tpopf 2 ;\n",
      "\treturn ;\n",
      "#  \n",
      "# End of function inc\n",
      "#  \n",
      "L20:\n",
      "\tnoop ;\n",
      "\tstore t$0 (* 3 2) ;\n",
      "\tpushv 5 ;\n",
      "\tcall inc ;\n",
      "\tpopv ;\n",
      "\tstore t$1 %rvx ;\n",
      "\tstore t$2 (+ t$0 t$1) ;\n",
      "\tprint t$2 ;\n",
      "\tstop ;\n",
      "\n"
     ]
    }
   ],
   "source": [
    "call_in_exp = \\\n",
    "'''\n",
    "declare inc(k) return k+1;\n",
    "\n",
    "put 3*2+inc(5);\n",
    "'''\n",
    "print(cc(call_in_exp))"
   ]
  },
  {
   "cell_type": "code",
   "execution_count": null,
   "metadata": {
    "collapsed": true
   },
   "outputs": [],
   "source": []
  }
 ],
 "metadata": {
  "kernelspec": {
   "display_name": "Python 3",
   "language": "python",
   "name": "python3"
  },
  "language_info": {
   "codemirror_mode": {
    "name": "ipython",
    "version": 3
   },
   "file_extension": ".py",
   "mimetype": "text/x-python",
   "name": "python",
   "nbconvert_exporter": "python",
   "pygments_lexer": "ipython3",
   "version": "3.7.3"
  }
 },
 "nbformat": 4,
 "nbformat_minor": 2
}
