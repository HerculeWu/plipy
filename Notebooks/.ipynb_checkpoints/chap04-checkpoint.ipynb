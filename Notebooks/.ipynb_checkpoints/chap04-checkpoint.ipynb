{
 "cells": [
  {
   "cell_type": "markdown",
   "metadata": {},
   "source": [
    "# Procrastination Pays Off: Program Analysis with Intermediate Representations"
   ]
  },
  {
   "cell_type": "markdown",
   "metadata": {},
   "source": [
    "<!--\n",
    "\\index{intermediate representation}\n",
    "\\index{IR}\n",
    "\\index{bytecode interpreter}\n",
    "\\index{virtual machine}\n",
    "\\index{abstract syntax tree}\n",
    "\\index{AST}\n",
    "\\index{pretty printer}\n",
    "-->\n",
    "\n",
    "In this chapter we show that the simple, syntax directed scheme of processing programming\n",
    "languages shown in Chapter 2 is not powerful enough to handle certain\n",
    "standard programming constructs such as the `jump to label` instruction for instance.  We show that such programming\n",
    "constructs can be processed by first constructing an intermediate representation (IR) of the program\n",
    "and then use this IR during the actual processing of the program.  We illustrate these ideas with a simple\n",
    "bytecode language (virtual machine).  We continue our discussion with the fact that the *ad hoc* IR design\n",
    "we used for the bytecode interpreter has its limitations when designing processors for more complex\n",
    "languages.  We then introduce the idea of the Abstract Syntax Tree (AST) as an intermediate representation\n",
    "and show that this intermediate representation can be directly derived from the grammar itself giving us\n",
    "a more principled way of constructing intermediate representations.\n",
    "We illustrate these ideas with a pretty printer program for a simple high-level language."
   ]
  },
  {
   "cell_type": "code",
   "execution_count": 1,
   "metadata": {
    "collapsed": true
   },
   "outputs": [],
   "source": [
    "import sys\n",
    "sys.path.insert(0,\"code\")"
   ]
  },
  {
   "cell_type": "markdown",
   "metadata": {},
   "source": [
    "# Limit of Syntax Directed Processing"
   ]
  },
  {
   "cell_type": "markdown",
   "metadata": {},
   "source": [
    "In Chapter 3 we introduced syntax directed interpretation as a way to add semantics to programming\n",
    "languages.\n",
    "However, this scheme fails when some language construct needs access to information that is not directly computable based on the local syntactic structures or has not been entered into the symbol table for instance.\n",
    "Classic examples of this is the goto-statement in C and the `jump to label`  machine code instruction.\n",
    "In order to examine this a little bit closer we extend our Exp1 language with conditional and unconditional jump instructions\n",
    "and call the new language *Exp1bytecode*.\n",
    "This new language is based on our Exp1 language but introduces five new statements: \n",
    "\n",
    "* `noop` - a statement that does nothing.\n",
    "* `stop` - a statement that halts the execution.\n",
    "* `jumpT exp label` - a statement that evaluates `exp` and then jumps to the `label` if the expression evaluates to true.\n",
    "* `jumpF exp label` - a statement that evaluates {\\icd exp} and then jumps to the {\\icd label} if the expression evaluates to false.\n",
    "* `jump label` - an unconditional jump to the `label`.\n",
    "\n",
    "Recall that in Exp1 expressions are based on integer values.\n",
    "Therefore, in order to compute the truth values necessary for the conditional jump instructions we adopt the following convention: an expression value of zero represents the boolean value false and a non-zero expression value represents the boolean value true.\n",
    "\n",
    "Our Exp1bytecode language also introduces the idea of labeled statements as targets for jump statements.\n",
    "Labels are names followed by a colon that precede a statement.\n",
    "For example,\n",
    "```\n",
    "      store x 5;\n",
    "L1:   store x (- x 1);\n",
    "      jumpT x L1;\n",
    "```\n",
    "This program loops while `x` is non-zero.\n",
    "\n",
    "<!--\n",
    "\\index{relational operator}\n",
    "-->\n",
    "\n",
    "In order to write some interesting programs in this new language we also introduce two new operators:\n",
    "\n",
    "* `=` - the equality relational operator.\n",
    "* `=<` - the less-equal relational operator. \n",
    "\n",
    "Both operators return zero for the boolean value false and one for the boolean value true.\n",
    "\n",
    "Here is the grammar for our Exp1bytecode language."
   ]
  },
  {
   "cell_type": "code",
   "execution_count": null,
   "metadata": {
    "collapsed": false
   },
   "outputs": [],
   "source": [
    "# %load code/exp1bytecode_gram.py\n",
    "from ply import yacc\n",
    "from exp1bytecode_lex import tokens, lexer\n",
    "\n",
    "def p_grammar(_):\n",
    "    '''\n",
    "    prog : stmt_list\n",
    "\n",
    "    stmt_list : labeled_stmt stmt_list\n",
    "              | empty\n",
    "\n",
    "    labeled_stmt : label_def stmt\n",
    "\n",
    "    label_def : NAME ':' \n",
    "              | empty\n",
    "\n",
    "    stmt : PRINT exp ';'\n",
    "         | STORE NAME exp ';'\n",
    "         | JUMPT exp label ';'\n",
    "         | JUMPF exp label ';'\n",
    "         | JUMP label ';'\n",
    "         | STOP ';'\n",
    "         | NOOP ';'\n",
    "\n",
    "    exp : '+' exp exp\n",
    "        | '-' exp exp\n",
    "        | '-' exp\n",
    "        | '*' exp exp\n",
    "        | '/' exp exp\n",
    "        | EQ exp exp\n",
    "        | LE exp exp\n",
    "        | '(' exp ')'\n",
    "        | var\n",
    "        | NUMBER\n",
    "        \n",
    "    label : NAME\n",
    "    var : NAME\n",
    "    '''\n",
    "    pass\n",
    "\n",
    "def p_empty(p):\n",
    "    'empty :'\n",
    "    pass\n",
    "\n",
    "def p_error(t):\n",
    "    print(\"Syntax error at '%s'\" % t.value)\n",
    "\n",
    "parser = yacc.yacc()\n"
   ]
  },
  {
   "cell_type": "markdown",
   "metadata": {},
   "source": [
    "You can still clearly see the Exp1 lineage shining through.  However, lists of statements are now lists of labeled statements where a label definition is a name followed by a colon.  Statements now include all the statements from our earlier design discussion of this language and we have also enriched expressions to include all the standard arithmetic operators including the unary minus.\n",
    "The unary minus introduces shift/reduce conflicts into our parser because the unary minus expression `'-' exp` is a prefix to the binary subtraction expression `'-' exp exp`.  However, the standard conflict resolution of LR parsers for shift/reduce conflicts is to always shift when possible.  This behavior is exactly what we want so we can just leave it the way it is.\n",
    "\n",
    "Here is the corresponding lexical analyzer for Exp1bytecode."
   ]
  },
  {
   "cell_type": "code",
   "execution_count": null,
   "metadata": {
    "collapsed": false
   },
   "outputs": [],
   "source": [
    "# %load code/exp1bytecode_lex.py\n",
    "# Lexer for Exp1bytecode\n",
    "\n",
    "from ply import lex\n",
    "\n",
    "reserved = {\n",
    "    'store' : 'STORE',\n",
    "    'print' : 'PRINT',\n",
    "    'jumpT' : 'JUMPT',\n",
    "    'jumpF' : 'JUMPF',\n",
    "    'jump'  : 'JUMP',\n",
    "    'stop'  : 'STOP',\n",
    "    'noop'  : 'NOOP'\n",
    "}\n",
    "\n",
    "literals = [':',';','+','-','*','/','(',')']\n",
    "\n",
    "tokens = ['NAME','NUMBER','EQ','LE'] + list(reserved.values())\n",
    "\n",
    "t_EQ = '='\n",
    "t_LE = '=<'\n",
    "t_ignore = ' \\t'\n",
    "\n",
    "def t_NAME(t):\n",
    "    r'[a-zA-Z_][a-zA-Z_0-9]*'\n",
    "    t.type = reserved.get(t.value,'NAME')    # Check for reserved words\n",
    "    return t\n",
    "\n",
    "def t_NUMBER(t):\n",
    "    r'[0-9]+'\n",
    "    t.value = int(t.value)\n",
    "    return t\n",
    "\n",
    "def t_NEWLINE(t):\n",
    "    r'\\n'\n",
    "    pass\n",
    "\n",
    "def t_COMMENT(t):\n",
    "    r'\\#.*'\n",
    "    pass\n",
    "    \n",
    "def t_error(t):\n",
    "    print(\"Illegal character %s\" % t.value[0])\n",
    "    t.lexer.skip(1)\n",
    "\n",
    "# build the lexer\n",
    "lexer = lex.lex()\n"
   ]
  },
  {
   "cell_type": "markdown",
   "metadata": {},
   "source": [
    "There should be no real surprises in this definition.  The only real change is that we added comments to our language in the form of `#` comments.  As usual with these kinds of comments once you start a comment it spans the rest of the line. The regular expression for this is `\\#.*` - match zero or more character after the hash symbol not including the newline character.\n",
    "\n",
    "Let's exercise this parser."
   ]
  },
  {
   "cell_type": "code",
   "execution_count": 5,
   "metadata": {
    "collapsed": false
   },
   "outputs": [
    {
     "name": "stderr",
     "output_type": "stream",
     "text": [
      "Generating LALR tables\n",
      "WARNING: 9 shift/reduce conflicts\n"
     ]
    }
   ],
   "source": [
    "from exp1bytecode_gram import parser"
   ]
  },
  {
   "cell_type": "markdown",
   "metadata": {},
   "source": [
    "As input program we will use our example program from above."
   ]
  },
  {
   "cell_type": "code",
   "execution_count": 6,
   "metadata": {
    "collapsed": true
   },
   "outputs": [],
   "source": [
    "input_stream = \\\n",
    "'''\n",
    "      store x 5;\n",
    "L1:   store x (- x 1);\n",
    "      jumpT x L1;\n",
    "\n",
    "'''"
   ]
  },
  {
   "cell_type": "code",
   "execution_count": 7,
   "metadata": {
    "collapsed": false
   },
   "outputs": [],
   "source": [
    "parser.parse(input_stream)"
   ]
  },
  {
   "cell_type": "markdown",
   "metadata": {},
   "source": [
    "Good! No syntax or other errors were reported.  That means our parser works."
   ]
  },
  {
   "cell_type": "markdown",
   "metadata": {},
   "source": [
    "<!--\n",
    "\\index{label!definition}\n",
    "\\index{label!reference}\n",
    "-->\n",
    "\n",
    "Now, back to our problem at hand: the syntax directed interpretation of this language.\n",
    "As long as we are dealing with expressions in Exp1bytecode things are fine.\n",
    "We could easily envision providing syntax directed interpretation for expression similar to what we\n",
    "did in Exp1,\n",
    "```Python\n",
    "   ...\n",
    "\n",
    "def p_arith_exp(p):\n",
    "    \"\"\"\n",
    "    exp : '+' exp exp\n",
    "        | '-' exp exp\n",
    "        | '(' exp ')'\n",
    "    \"\"\"\n",
    "    if p[1] == '+':\n",
    "        p[0] = ' (+' + p[2] + p[3] + ')'\n",
    "    elif p[1] == '-':\n",
    "        p[0] = ' (-' + p[2] + p[3] + ')'\n",
    "    elif p[1] == '(':\n",
    "        p[0] = p[2]\n",
    "    else:\n",
    "        raise ValueError(\"parsing weirdness in expressions: {} !\".format(p[1]))\n",
    "\n",
    "def p_var_exp(p):\n",
    "    \"exp : var\"\n",
    "    p[0] = p[1]\n",
    "    \n",
    "def p_num_exp(p):\n",
    "    \"exp : num\"\n",
    "    p[0] = p[1]\n",
    "\n",
    "   ...\n",
    "```\n",
    "All information is available at the point in time when we recognize a syntactic structure and we are able to evaluate the embedded rules.\n",
    "The same is true for `print` and `store` statements.  All the information required to interpret these statements\n",
    "is availble at the time their syntax is recognized by the parser.\n",
    "\n",
    "<!--\n",
    "\\index{forward jump}\n",
    "-->\n",
    "\n",
    "Trouble arises when we try to perform syntax directed interpretation of jump statements. Consider,\n",
    "```Python\n",
    "def p_stmt(p):\n",
    "    '''\n",
    "    stmt :\n",
    "         ...\n",
    "         | JUMP label ';'\n",
    "         ...\n",
    "    '''\n",
    "    if p[1] == 'jump':\n",
    "        target = p[2]\n",
    "        # and we are in deep trouble - jump target is not local!?!\n",
    "```\n",
    "Trying to do this in a syntax directed fashion gets us into deep trouble because the target of the jump instruction\n",
    "is not local to the syntactic unit of the jump instruction.  As a matter of fact, if the jump is a forward jump\n",
    "in the code then we will not have actually seen the target yet!\n",
    "\n",
    "Consider the following,\n",
    "```\n",
    "      store x 10;\n",
    "      jumpT (= x 10) L1;\n",
    "      print 0;\n",
    "      stop\n",
    "L1:   print 1;\n",
    "      stop;\n",
    "```\n",
    "This program stores the value ten in `x`, then checks if `x` has the value ten.  \n",
    "If so, it jumps forward to the label `L1` and prints out the value one and stops the execution.\n",
    "Otherwise it prints out the value zero and stops the execution.\n",
    "It is a silly program but it illustrates the point quite nicely that the syntax directed processing of the `jumpT` statement\n",
    "will fail because at the point of interpreting the jump statement we have not seen the label definition yet."
   ]
  },
  {
   "cell_type": "markdown",
   "metadata": {},
   "source": [
    "# Decoupling Syntax Analysis and Semantic Processing"
   ]
  },
  {
   "cell_type": "markdown",
   "metadata": {},
   "source": [
    "<!--\n",
    "\\index{interpreter}\n",
    "\\index{syntax analysis}\n",
    "\\index{semantic analysis}\n",
    "\\index{intermediate representation}\n",
    "\\index{IR}\n",
    "-->\n",
    "\n",
    "In order to interpret languages like Exp1bytecode we need to decouple the syntax analysis from the actual interpretation, that is,\n",
    "we need to procrastinate with our interpretation of the program by first constructing an abstract representation of it, the *intermediate representation*, and then in turn evaluate or interpret this abstract representation.\n",
    "This fits nicely with our architecture of an interpreter of Figure 6 in Chapter 1.\n",
    "Here our interpreter has two phases that are coupled with an intermediate representation of the program.\n",
    "The first phase builds the intermediate representation and the second phase interprets the intermediate representation.\n",
    "\n",
    "We can say the following about any kind of intermediate representation\n",
    "> An intermediate representation (IR) is an abstract representation of the original program."
   ]
  },
  {
   "cell_type": "markdown",
   "metadata": {},
   "source": [
    "## Feature Driven IR Design"
   ]
  },
  {
   "cell_type": "markdown",
   "metadata": {},
   "source": [
    "<!--\n",
    "\\index{IR design}\n",
    "-->\n",
    "\n",
    "Since the IR is at the core of our interpreter this makes a good IR design paramount,\n",
    "\n",
    "> A good IR should be easy to construct and easy to process.\n",
    "\n",
    "Here we take an approach to IR design that is driven by particular features of our language at hand.\n",
    "In our case we can view Exp1bytecode as representing an abstract machine."
   ]
  },
  {
   "cell_type": "markdown",
   "metadata": {},
   "source": [
    "## The Exp1bytecode Interpreter"
   ]
  },
  {
   "cell_type": "markdown",
   "metadata": {},
   "source": [
    "---\n",
    "<center>\n",
    "<img src=\"figures/chap04/1/figure/Slide1.jpg\" alt=\"\">\n",
    "Fig 1. IR design for the Exp1bytecode interpreter.\n",
    "</center>\n",
    "\n",
    "---\n"
   ]
  },
  {
   "cell_type": "markdown",
   "metadata": {},
   "source": [
    "If we look at the Exp1bytecode syntax we can identify three major characteristics of this language:\n",
    "\n",
    "* We have variables that hold values and these values can be changed and referenced by instructions.\n",
    "* We have conditional and unconditional jumps which use label definitions and references to specify the range of the jumps.\n",
    "* Programs in this language consist of a sequence of instructions.\n",
    "\n",
    "Given these features of Exp1bytecode and given the fact that the\n",
    "language looks like very abstract machine code one design choice it to make our IR resemble a virtual machine that consists of three\n",
    "major components:\n",
    "\n",
    "* A symbol table to hold variable definitions.\n",
    "* A label table to hold label definitions.\n",
    "* A list of instructions..\n",
    " \n",
    "Figure 1 shows our IR design.\n",
    "Our abstract machine is shown with the program,\n",
    "```\n",
    "   store x 10 ;\n",
    "L1:\n",
    "   print x ;\n",
    "   store x (- x 1) ;\n",
    "   jumpT x L1 ;\n",
    "   stop ;\n",
    "```\n",
    "loaded and ready to be interpreted.\n",
    "Given that programs in the IR representation still look very much like the programs in the original textual representation the IR is easy to construct.\n",
    "Also, given that programs are represented as a list of instructions they are easy to interpret -- we simply \n",
    "walk down the list of instructions and execute each one in turn.\n",
    "So it seems that our IR design fulfills the two key points of IR design we made above: easy to construct and easy to process.\n",
    "\n",
    "Now, let us just think through the issue with labels that we had before when we attempted a syntax directed approach to the interpretation of Exp1bytecode.\n",
    "In our new IR design labels behave much like variables in the sense that we have a definition point and we have label references.\n",
    "The definition points of labels are the labeled instructions and the reference points are the labels in the jump\n",
    "instructions.\n",
    "In order to deal with this effectively our IR uses a label table that records the instructions that act as definition points for a particular labels.\n",
    "In our example in Figure 1 we see that the label table holds the label `L1` and the entry \n",
    "for this label points to the definition point of this label, namely the print statement in the program.\n",
    "Label references point back to the label table and therefore we can find and resolve the targets for any jumps that occur in a program.\n",
    "Also note that forward references are no longer a problem because during the syntax analysis phase we will have seen all label\n",
    "definition points and entered them into the label table before the semantic phase started.\n",
    "\n",
    "Here is an animation of the abstract machine executing our program."
   ]
  },
  {
   "cell_type": "markdown",
   "metadata": {},
   "source": [
    "<!-- chap04 q1 -->\n",
    "\n",
    "<a href=\"http://www.youtube.com/watch?feature=player_embedded&v=7oY-FS0jHvo\" target=\"_blank\">\n",
    "<img style='border:1px solid #000000' src=\"movie.jpg\" width=\"120\" height=\"90\" />\n",
    "</a>\n"
   ]
  },
  {
   "cell_type": "markdown",
   "metadata": {},
   "source": [
    "### Implementation"
   ]
  },
  {
   "cell_type": "markdown",
   "metadata": {},
   "source": [
    "The IR construction is embedded in the grammar specification for our parser.  Let's take a look."
   ]
  },
  {
   "cell_type": "code",
   "execution_count": null,
   "metadata": {
    "collapsed": false
   },
   "outputs": [],
   "source": [
    "# %load code/exp1bytecode_interp_gram\n",
    "from ply import yacc\n",
    "from exp1bytecode_lex import tokens, lexer\n",
    "\n",
    "# define the structures of our abstract machine\n",
    "addr_ix = 0\n",
    "program = []\n",
    "symbol_table = dict()\n",
    "label_table = dict()\n",
    "\n",
    "def p_prog(_):\n",
    "    '''\n",
    "    prog : stmt_list\n",
    "    '''\n",
    "    pass\n",
    "\n",
    "def p_stmt_list(_):\n",
    "    '''\n",
    "    stmt_list : labeled_stmt stmt_list\n",
    "              | empty\n",
    "    '''\n",
    "    pass\n",
    "\n",
    "def p_labeled_stmt(p):\n",
    "    '''\n",
    "    labeled_stmt : label_def stmt\n",
    "    '''\n",
    "    global label_table\n",
    "    global program\n",
    "    global addr_ix\n",
    "    # if label exists record it in the label table\n",
    "    if p[1]:\n",
    "        label_table[p[1]] = addr_ix\n",
    "    # append stmt to program\n",
    "    program.append(p[2])\n",
    "    addr_ix += 1\n",
    "\n",
    "def p_label_def(p):\n",
    "    '''\n",
    "    label_def : NAME ':' \n",
    "              | empty\n",
    "    '''\n",
    "    p[0] = p[1]\n",
    "\n",
    "def p_stmt(p):\n",
    "    '''\n",
    "    stmt : PRINT exp ';'\n",
    "         | STORE NAME exp ';'\n",
    "         | JUMPT exp label ';'\n",
    "         | JUMPF exp label ';'\n",
    "         | JUMP label ';'\n",
    "         | STOP ';'\n",
    "         | NOOP ';'\n",
    "    '''\n",
    "    # for each stmt assemble the appropriate tuple\n",
    "    if p[1] == 'print':\n",
    "        p[0] = ('print', p[2])\n",
    "    elif p[1] == 'store':\n",
    "        p[0] = ('store', p[2], p[3])\n",
    "    elif p[1] == 'jumpT':\n",
    "        p[0] = ('jumpT', p[2], p[3])\n",
    "    elif p[1] == 'jumpF':\n",
    "        p[0] = ('jumpF', p[2], p[3])\n",
    "    elif p[1] == 'jump':\n",
    "        p[0] = ('jump', p[2])\n",
    "    elif p[1] == 'stop':\n",
    "        p[0] = ('stop',)\n",
    "    elif p[1] == 'noop':\n",
    "        p[0] = ('noop',)\n",
    "    else:\n",
    "        raise ValueError(\"Unexpected stmt value: {}\".format(p[1]))\n",
    "\n",
    "def p_bin_exp(p):\n",
    "    '''\n",
    "    exp : '+' exp exp\n",
    "        | '-' exp exp\n",
    "        | '*' exp exp\n",
    "        | '/' exp exp\n",
    "        | EQ exp exp\n",
    "        | LE exp exp\n",
    "    '''\n",
    "    p[0] = (p[1], p[2], p[3])\n",
    "    \n",
    "def p_uminus_exp(p):\n",
    "    '''\n",
    "    exp : '-' exp\n",
    "    '''\n",
    "    p[0] = ('UMINUS', p[2])\n",
    "    \n",
    "def p_paren_exp(p):\n",
    "    '''\n",
    "    exp : '(' exp ')'\n",
    "    '''\n",
    "    # parens are not necessary in trees\n",
    "    p[0] = p[2]\n",
    "    \n",
    "def p_var_exp(p):\n",
    "    '''\n",
    "    exp : var\n",
    "    '''\n",
    "    p[0] = (p[1],)\n",
    "\n",
    "def p_number_exp(p):\n",
    "    '''\n",
    "    exp : NUMBER\n",
    "    '''\n",
    "    p[0] = (int(p[1]),)\n",
    "\n",
    "def p_label_or_var(p):\n",
    "    '''\n",
    "    label : NAME\n",
    "    var : NAME\n",
    "    '''\n",
    "    p[0] = p[1]\n",
    "\n",
    "def p_empty(p):\n",
    "    '''\n",
    "    empty :\n",
    "    '''\n",
    "    p[0] = ''\n",
    "\n",
    "def p_error(t):\n",
    "    print(\"Syntax error at '%s'\" % t.value)\n",
    "\n",
    "parser = yacc.yacc()\n"
   ]
  },
  {
   "cell_type": "markdown",
   "metadata": {},
   "source": [
    "After the preamble that includes our lexer module we see that we are defining the data structures for our abstract machine: a program list for our instructions, a symbol table dictionary for variable lookups, and our label table for resolving jump targets.  We also have an address index variable that keeps track of where we are inserting instructions into the program list.\n",
    "\n",
    "The next interesting piece of code is the parsing function for the rule,\n",
    "```\n",
    "labeled_stmt : label_def stmt\n",
    "```\n",
    "The embedded action associated with this rule is,\n",
    "```Python\n",
    "# if label exists record it in the label table\n",
    "if p[1]:\n",
    "    label_table[p[1]] = addr_ix\n",
    "# append stmt to program\n",
    "program.append(p[2])\n",
    "addr_ix += 1\n",
    "```\n",
    "Pretty straight forward.\n",
    "\n",
    "Parsing statements themselves constructs a tuple consisting of the name of the instruction together with its arguments. Take a look,\n",
    "```\n",
    "'''\n",
    "stmt : PRINT exp ';'\n",
    "    ...\n",
    "     | JUMP label ';'\n",
    "    ...\n",
    "'''\n",
    "```\n",
    "```Python\n",
    "    # for each stmt assemble the appropriate tuple\n",
    "    if p[1] == 'print':\n",
    "        p[0] = ('print', p[2])\n",
    "    ...\n",
    "    elif p[1] == 'jump':\n",
    "        p[0] = ('jump', p[2])\n",
    "    ...\n",
    "```\n",
    "Here the tuple for the print instruction consists of the name `print` and the expression tree that represents the value to be printed out.\n",
    "The tuple for the jump instruction consists of the name `jump` and the name of the target label.\n",
    "Similarly for all the other instructions.\n",
    "\n",
    "Finally, the last bit of interesting code in the grammar specification is the definition of expressions,\n",
    "```\n",
    "'''\n",
    "exp : '+' exp exp\n",
    "    | '-' exp exp\n",
    "    | '*' exp exp\n",
    "    | '/' exp exp\n",
    "    | EQ exp exp\n",
    "    | LE exp exp\n",
    "'''\n",
    "```\n",
    "```Python\n",
    "p[0] = (p[1], p[2], p[3])\n",
    "```\n",
    "Here we construct a labeled term tree from the expressions.  According to these rules the expression,\n",
    "```\n",
    "=< + 3 2 * 3 2\n",
    "```\n",
    "would give rise to the labeled term tree,\n",
    "```\n",
    "('=<', ('+', (3,), (2,)), ('*', (3,), (2,)))\n",
    "```\n",
    "\n",
    "Let's give our parser a test run."
   ]
  },
  {
   "cell_type": "code",
   "execution_count": 9,
   "metadata": {
    "collapsed": false
   },
   "outputs": [
    {
     "name": "stderr",
     "output_type": "stream",
     "text": [
      "Generating LALR tables\n",
      "WARNING: 9 shift/reduce conflicts\n"
     ]
    }
   ],
   "source": [
    "from exp1bytecode_interp_gram import parser, program, symbol_table, label_table\n",
    "import pprint\n",
    "pp = pprint.PrettyPrinter()"
   ]
  },
  {
   "cell_type": "code",
   "execution_count": 10,
   "metadata": {
    "collapsed": true
   },
   "outputs": [],
   "source": [
    "input_stream = \\\n",
    "'''\n",
    "   store x 10 ;\n",
    "L1:\n",
    "   print x ;\n",
    "   store x (- x 1) ;\n",
    "   jumpT x L1 ;\n",
    "   stop ;\n",
    "'''"
   ]
  },
  {
   "cell_type": "code",
   "execution_count": 11,
   "metadata": {
    "collapsed": true
   },
   "outputs": [],
   "source": [
    "parser.parse(input_stream)"
   ]
  },
  {
   "cell_type": "code",
   "execution_count": 12,
   "metadata": {
    "collapsed": false
   },
   "outputs": [
    {
     "name": "stdout",
     "output_type": "stream",
     "text": [
      "[('store', 'x', (10,)),\n",
      " ('print', ('x',)),\n",
      " ('store', 'x', ('-', ('x',), (1,))),\n",
      " ('jumpT', ('x',), 'L1'),\n",
      " ('stop',)]\n"
     ]
    }
   ],
   "source": [
    "pp.pprint(program)"
   ]
  },
  {
   "cell_type": "code",
   "execution_count": 13,
   "metadata": {
    "collapsed": false
   },
   "outputs": [
    {
     "name": "stdout",
     "output_type": "stream",
     "text": [
      "{'L1': 1}\n"
     ]
    }
   ],
   "source": [
    "pp.pprint(label_table)"
   ]
  },
  {
   "cell_type": "code",
   "execution_count": 14,
   "metadata": {
    "collapsed": false
   },
   "outputs": [
    {
     "name": "stdout",
     "output_type": "stream",
     "text": [
      "{}\n"
     ]
    }
   ],
   "source": [
    "pp.pprint(symbol_table)"
   ]
  },
  {
   "cell_type": "markdown",
   "metadata": {},
   "source": [
    "In order to interpret the programs in our IR we need two functions.  The first one is the interpretation of instructions on the program list."
   ]
  },
  {
   "cell_type": "code",
   "execution_count": 23,
   "metadata": {
    "collapsed": true
   },
   "outputs": [],
   "source": [
    "def interp_program():\n",
    "    global program\n",
    "    global symbol_table\n",
    "    global label_table\n",
    "    \n",
    "    # We cannot use the list iterator here because we\n",
    "    # need to be able to interpret jump instructions\n",
    "    \n",
    "    # start at the first instruction in program\n",
    "    instr_ix = 0\n",
    "\n",
    "    # keep interpreting until we ran out of instructions\n",
    "    # or we hit a 'stop'\n",
    "    while True:\n",
    "        if instr_ix == len(program):\n",
    "            # no more instructions\n",
    "            break\n",
    "        else:    \n",
    "            # get instruction from program\n",
    "            instr = program[instr_ix]\n",
    "\n",
    "        # instruction format: (name, arg1, arg2, ...)\n",
    "        name = instr[0]\n",
    "        \n",
    "        # interpret instruction\n",
    "        if name == 'print':\n",
    "            # PRINT exp \n",
    "            exp_tree = instr[1]\n",
    "            val = eval_exp_tree(exp_tree)\n",
    "            print(\"> {}\".format(val))\n",
    "            instr_ix += 1\n",
    "            \n",
    "        elif name == 'store':\n",
    "            # STORE NAME exp\n",
    "            var_name = instr[1]\n",
    "            val = eval_exp_tree(instr[2])\n",
    "            symbol_table[var_name] = val\n",
    "            instr_ix += 1\n",
    "\n",
    "        elif name == 'jumpT':\n",
    "            # JUMPT exp label\n",
    "            val = eval_exp_tree(instr[1])\n",
    "            if val:\n",
    "                instr_ix = label_table.get(instr[2], None)\n",
    "            else:\n",
    "                instr_ix += 1\n",
    "\n",
    "        elif name == 'jumpF':\n",
    "            # JUMPF exp label\n",
    "            val = eval_exp_tree(instr[1])\n",
    "            if not val:\n",
    "                instr_ix = label_table.get(instr[2], None)\n",
    "            else:\n",
    "                instr_ix += 1\n",
    "\n",
    "        elif name == 'jump':\n",
    "            # JUMP label\n",
    "            instr_ix = label_table.get(instr[1], None)\n",
    "\n",
    "        elif name == 'stop':\n",
    "            # STOP\n",
    "            break\n",
    "            \n",
    "        elif name == 'noop':\n",
    "            # NOOP\n",
    "            instr_ix += 1\n",
    "            \n",
    "        else:\n",
    "            raise ValueError(\"Unexpected instruction name: {}\".format(p[1]))\n",
    "   "
   ]
  },
  {
   "cell_type": "markdown",
   "metadata": {},
   "source": [
    "In order to have a complete interpreter for our abstract machine we need to provide the function that evaluates expression trees. "
   ]
  },
  {
   "cell_type": "code",
   "execution_count": 16,
   "metadata": {
    "collapsed": false
   },
   "outputs": [],
   "source": [
    "def eval_exp_tree(node):\n",
    "    global symbol_table\n",
    "    \n",
    "    # tree nodes are tuples (NAME, [arg1, arg2,...])\n",
    "    \n",
    "    name = node[0]\n",
    "    \n",
    "    if name == '+':\n",
    "        # '+' exp exp\n",
    "        v_left = eval_exp_tree(node[1])\n",
    "        v_right = eval_exp_tree(node[2])\n",
    "        return v_left + v_right\n",
    "\n",
    "    elif name == '-':\n",
    "        # '-' exp exp\n",
    "        v_left = eval_exp_tree(node[1])\n",
    "        v_right = eval_exp_tree(node[2])\n",
    "        return v_left - v_right\n",
    "\n",
    "    elif name == '*':\n",
    "        # '*' exp exp\n",
    "        v_left = eval_exp_tree(node[1])\n",
    "        v_right = eval_exp_tree(node[2])\n",
    "        return v_left * v_right\n",
    "\n",
    "    elif name == '/':\n",
    "        # '/' exp exp\n",
    "        v_left = eval_exp_tree(node[1])\n",
    "        v_right = eval_exp_tree(node[2])\n",
    "        return v_left // v_right\n",
    "\n",
    "    elif name == '=':\n",
    "        # '=' exp exp\n",
    "        v_left = eval_exp_tree(node[1])\n",
    "        v_right = eval_exp_tree(node[2])\n",
    "        return v_left == v_right\n",
    "\n",
    "    elif name == '=<':\n",
    "        # '=<' exp exp\n",
    "        v_left = eval_exp_tree(node[1])\n",
    "        v_right = eval_exp_tree(node[2])\n",
    "        return v_left <= v_right\n",
    "    \n",
    "    elif name == 'UMINUS':\n",
    "        # 'UMINUS' exp\n",
    "        val = eval_exp_tree(node[1])\n",
    "        return - val\n",
    "    \n",
    "    elif type(name) is str:\n",
    "        # NAME\n",
    "        return symbol_table.get(name,0)\n",
    "    \n",
    "    elif type(name) is int:\n",
    "        # NUMBER\n",
    "        return name\n",
    " "
   ]
  },
  {
   "cell_type": "code",
   "execution_count": 17,
   "metadata": {
    "collapsed": false
   },
   "outputs": [
    {
     "data": {
      "text/plain": [
       "True"
      ]
     },
     "execution_count": 17,
     "metadata": {},
     "output_type": "execute_result"
    }
   ],
   "source": [
    "eval_exp_tree(('=<', ('+', (3,),  (2,)), ('*', (3,), (2,))))\n"
   ]
  },
  {
   "cell_type": "code",
   "execution_count": 24,
   "metadata": {
    "collapsed": false
   },
   "outputs": [
    {
     "name": "stdout",
     "output_type": "stream",
     "text": [
      "> 10\n",
      "> 9\n",
      "> 8\n",
      "> 7\n",
      "> 6\n",
      "> 5\n",
      "> 4\n",
      "> 3\n",
      "> 2\n",
      "> 1\n"
     ]
    }
   ],
   "source": [
    "interp_program()\n"
   ]
  },
  {
   "cell_type": "code",
   "execution_count": 25,
   "metadata": {
    "collapsed": false
   },
   "outputs": [
    {
     "data": {
      "text/plain": [
       "{'x': 0}"
      ]
     },
     "execution_count": 25,
     "metadata": {},
     "output_type": "execute_result"
    }
   ],
   "source": [
    "symbol_table"
   ]
  },
  {
   "cell_type": "markdown",
   "metadata": {},
   "source": [
    "# Summary"
   ]
  },
  {
   "cell_type": "markdown",
   "metadata": {},
   "source": [
    "# Bibliographic Notes"
   ]
  },
  {
   "cell_type": "markdown",
   "metadata": {},
   "source": [
    "# Exercises\n",
    "\n",
    "\\ex\n",
    "\\label{chap03:exp1bytecode-new}\n",
    "How would you change Exp1bytecode to make it amenable for syntax directed interpretation? \n",
    "({\\bf Hint:} Add structured programming constructs.) \n",
    "Implement a grammar specification for your new language and illustrate that it can support syntax directed interpretation.\n",
    "\n",
    "\\ex (project)\n",
    "Write a syntax directed interpreter for the language you designed in Exercise~\\ref{chap03:exp1bytecode-new}.\n",
    "\n",
    "\n",
    "\\ex (project)\n",
    "Consider our Exp1bytecode language given in Figure~\\ref{chap03:exp1bytecode-gram}.\n",
    "Add a new branching instruction called {\\icd compare} to the language.\n",
    "The syntax of this instruction is as follows,\n",
    "\\antlrlisting\n",
    "stmt:\t'compare' exp exp label label label ';' \n",
    "\\end{lstlisting}\n",
    "and its semantics can be described like this,\n",
    "\\begin{itemize}\n",
    "\\item If the first expression has a value less than the second expression then jump to the first label.\n",
    "\\item If the expressions have equal values then jump to the second label.\n",
    "\\item If the first expression has a value larger than the second expression then jump to the third label.\n",
    "\\end{itemize}\n",
    "Modify the interpreter for Exp1bytecode to accommodate this new instruction.\n",
    "\n",
    "\n",
    "\\end{exercises}"
   ]
  },
  {
   "cell_type": "code",
   "execution_count": null,
   "metadata": {
    "collapsed": true
   },
   "outputs": [],
   "source": []
  }
 ],
 "metadata": {
  "kernelspec": {
   "display_name": "Python 3",
   "language": "python",
   "name": "python3"
  },
  "language_info": {
   "codemirror_mode": {
    "name": "ipython",
    "version": 3
   },
   "file_extension": ".py",
   "mimetype": "text/x-python",
   "name": "python",
   "nbconvert_exporter": "python",
   "pygments_lexer": "ipython3",
   "version": "3.6.0"
  }
 },
 "nbformat": 4,
 "nbformat_minor": 2
}
